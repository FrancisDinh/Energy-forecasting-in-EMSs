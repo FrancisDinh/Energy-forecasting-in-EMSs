{
 "metadata": {
  "language_info": {
   "codemirror_mode": {
    "name": "ipython",
    "version": 3
   },
   "file_extension": ".py",
   "mimetype": "text/x-python",
   "name": "python",
   "nbconvert_exporter": "python",
   "pygments_lexer": "ipython3",
   "version": "3.6.9-final"
  },
  "orig_nbformat": 2,
  "kernelspec": {
   "name": "python36964bittensorenv200venv79bc51d1b1b646b6acec0497b612df94",
   "display_name": "Python 3.6.9 64-bit ('tensorenv_200': venv)",
   "language": "python"
  }
 },
 "nbformat": 4,
 "nbformat_minor": 2,
 "cells": [
  {
   "cell_type": "code",
   "execution_count": 1,
   "metadata": {},
   "outputs": [
    {
     "output_type": "execute_result",
     "data": {
      "text/plain": [
       "'\\nThis is the notebook for cleaning energy consumption of commercial buildings\\n'"
      ]
     },
     "metadata": {},
     "execution_count": 1
    }
   ],
   "source": [
    "'''\n",
    "This is the notebook for cleaning energy consumption of commercial buildings\n",
    "'''"
   ]
  },
  {
   "cell_type": "code",
   "execution_count": 2,
   "metadata": {},
   "outputs": [],
   "source": [
    "import pandas as pd \n",
    "import numpy as np \n",
    "import os \n",
    "import csv"
   ]
  },
  {
   "cell_type": "code",
   "execution_count": 3,
   "metadata": {},
   "outputs": [],
   "source": [
    "def clean_file_energy(file):\n",
    "    \"\"\"\n",
    "    Get all electricity of a building\n",
    "    Sum the total in 1 hour\n",
    "    \"\"\"\n",
    "    if not os.path.isfile(file):\n",
    "        #log(\"File does not exit\")\n",
    "        return None \n",
    "    \n",
    "    df = pd.read_csv(file)\n",
    "    # consider time, total and avg electricity consumption\n",
    "    columns = [\"Time\",\"Total_Electricity_KW\"]\n",
    "    df = pd.read_csv(file)\n",
    "    length = df.shape[0]\n",
    "    # save datetime and add after computation\n",
    "    dates = df[\"Date/Time\"].values.reshape(length,1)\n",
    "    # drop datetime and gas consumption\n",
    "    drop_cols = [0,7,8,9,10]\n",
    "    df = df.drop(df.columns[drop_cols],axis=1)\n",
    "    df = df.values\n",
    "    # take sum and of electricity consumption\n",
    "    sum_df = np.sum(df,axis=1)\n",
    "    sum_df = np.array(sum_df).reshape(length,1)\n",
    "    # convert back to DataFrame\n",
    "    df = np.append(dates,sum_df,1)\n",
    "    df = pd.DataFrame(df,columns=columns)\n",
    "    return df"
   ]
  },
  {
   "cell_type": "code",
   "execution_count": 4,
   "metadata": {},
   "outputs": [],
   "source": [
    "def sum_day_energy(df):\n",
    "    \"\"\"\n",
    "    Calculate the sum of the day \n",
    "    \"\"\"\n",
    "    if df.empty:\n",
    "        return None\n",
    "\n",
    "    columns = [\"Total_Electricity_KW\"]\n",
    "    df = df.drop([\"Time\"],axis=1).values\n",
    "    # sum 24 values for 1 day\n",
    "    df = df.reshape((365,-1))\n",
    "    df = np.sum(df,axis=1)\n",
    "    # convert back to dataframe\n",
    "    df = pd.DataFrame(df,columns = columns)\n",
    "    # add time back\n",
    "    dates = pd.date_range(\"20040101\",periods = 366,freq='D')\n",
    "    # drop 29.02\n",
    "    dates = dates.drop(dates[31+28])\n",
    "    df[\"Time\"] = dates\n",
    "    # rearrange columns order  \n",
    "    columns = df.columns.to_list()\n",
    "    columns = columns[-1:] + columns[:-1]\n",
    "    df = df[columns]\n",
    "    return df \n"
   ]
  },
  {
   "cell_type": "code",
   "execution_count": 5,
   "metadata": {},
   "outputs": [],
   "source": [
    "def merge_file_energy(file_list,file_name):\n",
    "    \"\"\"\n",
    "    Merge all file in folder energy\n",
    "    Add column average energy consumption\n",
    "    Convert KW to MW\n",
    "    \"\"\"\n",
    "    \n",
    "    length = len(file_list)\n",
    "    columns = [\"Total_Electricity_[MW]\"]\n",
    "    # create temp list to hold all values of dfs\n",
    "    df = np.zeros((365,1))\n",
    "    for f in file_list:\n",
    "          _temp = clean_file_energy(f)\n",
    "          _temp = sum_day_energy(_temp)\n",
    "          _temp = _temp.drop([\"Time\"],axis=1).values\n",
    "          print(_temp.shape)\n",
    "          #sum up\n",
    "          df = df + _temp\n",
    "    # convert KW to MW\n",
    "    df = df / 1000.0\n",
    "    # take average for the whole list\n",
    "    avg = df / length\n",
    "    # convert to df\n",
    "    df = pd.DataFrame(df,columns = columns)\n",
    "    # add avg energy \n",
    "    df[\"Avg_Electricity_[MW]\"] = avg\n",
    "    # add time back\n",
    "    dates = pd.date_range(\"20040101\",periods = 366,freq='D')\n",
    "    # drop 29.02\n",
    "    dates = dates.drop(dates[31+28])\n",
    "    df[\"Time\"] = dates\n",
    "    # rearrange columns order\n",
    "    columns = df.columns.to_list()\n",
    "    columns = columns[-1:] + columns[:-1]\n",
    "    df = df[columns]\n",
    "    # write file\n",
    "    df.to_csv(r\"\".join(file_name), index = True, header = True)\n",
    "    # return \n",
    "    return df"
   ]
  },
  {
   "cell_type": "code",
   "execution_count": 6,
   "metadata": {},
   "outputs": [],
   "source": [
    "def add_leap_day(df,num,length):\n",
    "    \"\"\"\n",
    "    Take the average of num days and make it into the leap day\n",
    "    num: window\n",
    "    length: total numbers of buildings\n",
    "    \"\"\"\n",
    "    columns = [\"Total_Electricity_[MW]\"]\n",
    "    # use total electricity to calculate\n",
    "    df = df.drop([\"Time\",\"Avg_Electricity_[MW]\"],axis=1).values\n",
    "    leap_day = np.sum(df[58-num+1:58+num+1])/(num*2)\n",
    "    df = np.insert(df,31+28,leap_day)\n",
    "    # add avg and time back\n",
    "    avg = df / length\n",
    "    dates = pd.date_range(\"20040101\",periods = 366,freq='D')\n",
    "    df = pd.DataFrame(df,columns = columns)\n",
    "    df[\"Avg_Electricity_[MW]\"] = avg\n",
    "    df[\"Time\"] = dates\n",
    "    # rearrange columns order\n",
    "    columns = df.columns.to_list()\n",
    "    columns = columns[-1:] + columns[:-1]\n",
    "    df = df[columns]\n",
    "    return df"
   ]
  },
  {
   "cell_type": "code",
   "execution_count": 7,
   "metadata": {},
   "outputs": [],
   "source": [
    "def create_file_list(loc):\n",
    "    \"\"\"\n",
    "    create file location for reading functions \n",
    "    \"\"\"\n",
    "    file_list = os.listdir(loc)\n",
    "    for i in range(len(file_list)):\n",
    "        file_list[i] = loc + \"/\" + file_list[i]\n",
    "    return file_list"
   ]
  },
  {
   "cell_type": "code",
   "execution_count": 8,
   "metadata": {},
   "outputs": [],
   "source": [
    "final_path = \"Final DB/commercial/\"\n",
    "raw_path = \"Raw DB/commercial/Energy\""
   ]
  },
  {
   "cell_type": "code",
   "execution_count": 27,
   "metadata": {},
   "outputs": [
    {
     "output_type": "stream",
     "name": "stdout",
     "text": [
      "(365, 1)\n",
      "(365, 1)\n",
      "(365, 1)\n",
      "(365, 1)\n",
      "(365, 1)\n",
      "(365, 1)\n",
      "(365, 1)\n",
      "(365, 1)\n",
      "(365, 1)\n",
      "(365, 1)\n",
      "(365, 1)\n",
      "(365, 1)\n",
      "(365, 1)\n",
      "(365, 1)\n",
      "(365, 1)\n",
      "(365, 1)\n"
     ]
    },
    {
     "output_type": "execute_result",
     "data": {
      "text/plain": [
       "          Time Total_Electricity_[MW] Avg_Electricity_[MW]\n",
       "0   2004-01-01                91.5441               5.7215\n",
       "1   2004-01-02                139.309              8.70682\n",
       "2   2004-01-03                142.005              8.87533\n",
       "3   2004-01-04                136.463              8.52896\n",
       "4   2004-01-05                136.404              8.52528\n",
       "..         ...                    ...                  ...\n",
       "360 2004-12-27                136.509              8.53184\n",
       "361 2004-12-28                139.253               8.7033\n",
       "362 2004-12-29                137.521              8.59504\n",
       "363 2004-12-30                98.8269              6.17668\n",
       "364 2004-12-31                87.2387              5.45242\n",
       "\n",
       "[365 rows x 3 columns]"
      ],
      "text/html": "<div>\n<style scoped>\n    .dataframe tbody tr th:only-of-type {\n        vertical-align: middle;\n    }\n\n    .dataframe tbody tr th {\n        vertical-align: top;\n    }\n\n    .dataframe thead th {\n        text-align: right;\n    }\n</style>\n<table border=\"1\" class=\"dataframe\">\n  <thead>\n    <tr style=\"text-align: right;\">\n      <th></th>\n      <th>Time</th>\n      <th>Total_Electricity_[MW]</th>\n      <th>Avg_Electricity_[MW]</th>\n    </tr>\n  </thead>\n  <tbody>\n    <tr>\n      <th>0</th>\n      <td>2004-01-01</td>\n      <td>91.5441</td>\n      <td>5.7215</td>\n    </tr>\n    <tr>\n      <th>1</th>\n      <td>2004-01-02</td>\n      <td>139.309</td>\n      <td>8.70682</td>\n    </tr>\n    <tr>\n      <th>2</th>\n      <td>2004-01-03</td>\n      <td>142.005</td>\n      <td>8.87533</td>\n    </tr>\n    <tr>\n      <th>3</th>\n      <td>2004-01-04</td>\n      <td>136.463</td>\n      <td>8.52896</td>\n    </tr>\n    <tr>\n      <th>4</th>\n      <td>2004-01-05</td>\n      <td>136.404</td>\n      <td>8.52528</td>\n    </tr>\n    <tr>\n      <th>...</th>\n      <td>...</td>\n      <td>...</td>\n      <td>...</td>\n    </tr>\n    <tr>\n      <th>360</th>\n      <td>2004-12-27</td>\n      <td>136.509</td>\n      <td>8.53184</td>\n    </tr>\n    <tr>\n      <th>361</th>\n      <td>2004-12-28</td>\n      <td>139.253</td>\n      <td>8.7033</td>\n    </tr>\n    <tr>\n      <th>362</th>\n      <td>2004-12-29</td>\n      <td>137.521</td>\n      <td>8.59504</td>\n    </tr>\n    <tr>\n      <th>363</th>\n      <td>2004-12-30</td>\n      <td>98.8269</td>\n      <td>6.17668</td>\n    </tr>\n    <tr>\n      <th>364</th>\n      <td>2004-12-31</td>\n      <td>87.2387</td>\n      <td>5.45242</td>\n    </tr>\n  </tbody>\n</table>\n<p>365 rows × 3 columns</p>\n</div>"
     },
     "metadata": {},
     "execution_count": 27
    }
   ],
   "source": [
    "file_name = final_path + \"merged_energy.csv\"\n",
    "loc = raw_path\n",
    "file_list = create_file_list(loc)\n",
    "merge_file_energy(file_list,file_name)"
   ]
  },
  {
   "cell_type": "code",
   "execution_count": 28,
   "metadata": {},
   "outputs": [
    {
     "output_type": "stream",
     "name": "stdout",
     "text": [
      "Index(['Date/Time', 'Electricity:Facility [kW](Hourly)',\n",
      "       'Fans:Electricity [kW](Hourly)', 'Cooling:Electricity [kW](Hourly)',\n",
      "       'Heating:Electricity [kW](Hourly)',\n",
      "       'InteriorLights:Electricity [kW](Hourly)',\n",
      "       'InteriorEquipment:Electricity [kW](Hourly)',\n",
      "       'Gas:Facility [kW](Hourly)', 'Heating:Gas [kW](Hourly)',\n",
      "       'InteriorEquipment:Gas [kW](Hourly)',\n",
      "       'Water Heater:WaterSystems:Gas [kW](Hourly)'],\n",
      "      dtype='object')\n",
      "(8760, 11)\n",
      "Index(['Date/Time', 'Electricity:Facility [kW](Hourly)',\n",
      "       'Fans:Electricity [kW](Hourly)', 'Cooling:Electricity [kW](Hourly)',\n",
      "       'Heating:Electricity [kW](Hourly)',\n",
      "       'InteriorLights:Electricity [kW](Hourly)',\n",
      "       'InteriorEquipment:Electricity [kW](Hourly)',\n",
      "       'Gas:Facility [kW](Hourly)', 'Heating:Gas [kW](Hourly)',\n",
      "       'InteriorEquipment:Gas [kW](Hourly)',\n",
      "       'Water Heater:WaterSystems:Gas [kW](Hourly)'],\n",
      "      dtype='object')\n",
      "(8760, 11)\n",
      "Index(['Date/Time', 'Electricity:Facility [kW](Hourly)',\n",
      "       'Fans:Electricity [kW](Hourly)', 'Cooling:Electricity [kW](Hourly)',\n",
      "       'Heating:Electricity [kW](Hourly)',\n",
      "       'InteriorLights:Electricity [kW](Hourly)',\n",
      "       'InteriorEquipment:Electricity [kW](Hourly)',\n",
      "       'Gas:Facility [kW](Hourly)', 'Heating:Gas [kW](Hourly)',\n",
      "       'InteriorEquipment:Gas [kW](Hourly)',\n",
      "       'Water Heater:WaterSystems:Gas [kW](Hourly)'],\n",
      "      dtype='object')\n",
      "(8760, 11)\n",
      "Index(['Date/Time', 'Electricity:Facility [kW](Hourly)',\n",
      "       'Fans:Electricity [kW](Hourly)', 'Cooling:Electricity [kW](Hourly)',\n",
      "       'Heating:Electricity [kW](Hourly)',\n",
      "       'InteriorLights:Electricity [kW](Hourly)',\n",
      "       'InteriorEquipment:Electricity [kW](Hourly)',\n",
      "       'Gas:Facility [kW](Hourly)', 'Heating:Gas [kW](Hourly)',\n",
      "       'Electricity:Facility [kW](Monthly)', 'Gas:Facility [kW](Monthly)'],\n",
      "      dtype='object')\n",
      "(8760, 11)\n",
      "Index(['Date/Time', 'Electricity:Facility [kW](Hourly)',\n",
      "       'Fans:Electricity [kW](Hourly)', 'Cooling:Electricity [kW](Hourly)',\n",
      "       'Heating:Electricity [kW](Hourly)',\n",
      "       'InteriorLights:Electricity [kW](Hourly)',\n",
      "       'InteriorEquipment:Electricity [kW](Hourly)',\n",
      "       'Gas:Facility [kW](Hourly)', 'Heating:Gas [kW](Hourly)',\n",
      "       'InteriorEquipment:Gas [kW](Hourly)',\n",
      "       'Water Heater:WaterSystems:Gas [kW](Hourly)'],\n",
      "      dtype='object')\n",
      "(8760, 11)\n",
      "Index(['Date/Time', 'Electricity:Facility [kW](Hourly)',\n",
      "       'Fans:Electricity [kW](Hourly)', 'Cooling:Electricity [kW](Hourly)',\n",
      "       'Heating:Electricity [kW](Hourly)',\n",
      "       'InteriorLights:Electricity [kW](Hourly)',\n",
      "       'InteriorEquipment:Electricity [kW](Hourly)',\n",
      "       'Gas:Facility [kW](Hourly)', 'Heating:Gas [kW](Hourly)',\n",
      "       'Electricity:Facility [kW](Monthly)', 'Gas:Facility [kW](Monthly)'],\n",
      "      dtype='object')\n",
      "(8760, 11)\n",
      "Index(['Date/Time', 'Electricity:Facility [kW](Hourly)',\n",
      "       'Fans:Electricity [kW](Hourly)', 'Cooling:Electricity [kW](Hourly)',\n",
      "       'Heating:Electricity [kW](Hourly)',\n",
      "       'InteriorLights:Electricity [kW](Hourly)',\n",
      "       'InteriorEquipment:Electricity [kW](Hourly)',\n",
      "       'Gas:Facility [kW](Hourly)', 'Heating:Gas [kW](Hourly)',\n",
      "       'Water Heater:WaterSystems:Gas [kW](Hourly)',\n",
      "       'Electricity:Facility [kW](Monthly)'],\n",
      "      dtype='object')\n",
      "(8760, 11)\n",
      "Index(['Date/Time', 'Electricity:Facility [kW](Hourly)',\n",
      "       'Fans:Electricity [kW](Hourly)', 'Cooling:Electricity [kW](Hourly)',\n",
      "       'Heating:Electricity [kW](Hourly)',\n",
      "       'InteriorLights:Electricity [kW](Hourly)',\n",
      "       'InteriorEquipment:Electricity [kW](Hourly)',\n",
      "       'Gas:Facility [kW](Hourly)', 'Heating:Gas [kW](Hourly)',\n",
      "       'Water Heater:WaterSystems:Gas [kW](Hourly)',\n",
      "       'Electricity:Facility [kW](Monthly)'],\n",
      "      dtype='object')\n",
      "(8760, 11)\n",
      "Index(['Date/Time', 'Electricity:Facility [kW](Hourly)',\n",
      "       'Fans:Electricity [kW](Hourly)', 'Cooling:Electricity [kW](Hourly)',\n",
      "       'Heating:Electricity [kW](Hourly)',\n",
      "       'InteriorLights:Electricity [kW](Hourly)',\n",
      "       'InteriorEquipment:Electricity [kW](Hourly)',\n",
      "       'Gas:Facility [kW](Hourly)', 'Heating:Gas [kW](Hourly)',\n",
      "       'Electricity:Facility [kW](Monthly)', 'Gas:Facility [kW](Monthly)'],\n",
      "      dtype='object')\n",
      "(8760, 11)\n",
      "Index(['Date/Time', 'Electricity:Facility [kW](Hourly)',\n",
      "       'Fans:Electricity [kW](Hourly)', 'Cooling:Electricity [kW](Hourly)',\n",
      "       'Heating:Electricity [kW](Hourly)',\n",
      "       'InteriorLights:Electricity [kW](Hourly)',\n",
      "       'InteriorEquipment:Electricity [kW](Hourly)',\n",
      "       'Gas:Facility [kW](Hourly)', 'Heating:Gas [kW](Hourly)',\n",
      "       'Water Heater:WaterSystems:Gas [kW](Hourly)',\n",
      "       'Electricity:Facility [kW](Monthly)'],\n",
      "      dtype='object')\n",
      "(8760, 11)\n",
      "Index(['Date/Time', 'Electricity:Facility [kW](Hourly)',\n",
      "       'Fans:Electricity [kW](Hourly)', 'Cooling:Electricity [kW](Hourly)',\n",
      "       'Heating:Electricity [kW](Hourly)',\n",
      "       'InteriorLights:Electricity [kW](Hourly)',\n",
      "       'InteriorEquipment:Electricity [kW](Hourly)',\n",
      "       'Gas:Facility [kW](Hourly)', 'Heating:Gas [kW](Hourly)',\n",
      "       'InteriorEquipment:Gas [kW](Hourly)',\n",
      "       'Water Heater:WaterSystems:Gas [kW](Hourly)'],\n",
      "      dtype='object')\n",
      "(8760, 11)\n",
      "Index(['Date/Time', 'Electricity:Facility [kW](Hourly)',\n",
      "       'Fans:Electricity [kW](Hourly)', 'Cooling:Electricity [kW](Hourly)',\n",
      "       'Heating:Electricity [kW](Hourly)',\n",
      "       'InteriorLights:Electricity [kW](Hourly)',\n",
      "       'InteriorEquipment:Electricity [kW](Hourly)',\n",
      "       'Gas:Facility [kW](Hourly)', 'Heating:Gas [kW](Hourly)',\n",
      "       'InteriorEquipment:Gas [kW](Hourly)',\n",
      "       'Water Heater:WaterSystems:Gas [kW](Hourly)'],\n",
      "      dtype='object')\n",
      "(8760, 11)\n",
      "Index(['Date/Time', 'Electricity:Facility [kW](Hourly)',\n",
      "       'Fans:Electricity [kW](Hourly)', 'Cooling:Electricity [kW](Hourly)',\n",
      "       'Heating:Electricity [kW](Hourly)',\n",
      "       'InteriorLights:Electricity [kW](Hourly)',\n",
      "       'InteriorEquipment:Electricity [kW](Hourly)',\n",
      "       'Gas:Facility [kW](Hourly)', 'Heating:Gas [kW](Hourly)',\n",
      "       'InteriorEquipment:Gas [kW](Hourly)',\n",
      "       'Water Heater:WaterSystems:Gas [kW](Hourly)'],\n",
      "      dtype='object')\n",
      "(8760, 11)\n",
      "Index(['Date/Time', 'Electricity:Facility [kW](Hourly)',\n",
      "       'Fans:Electricity [kW](Hourly)', 'Cooling:Electricity [kW](Hourly)',\n",
      "       'Heating:Electricity [kW](Hourly)',\n",
      "       'InteriorLights:Electricity [kW](Hourly)',\n",
      "       'InteriorEquipment:Electricity [kW](Hourly)',\n",
      "       'Gas:Facility [kW](Hourly)', 'Heating:Gas [kW](Hourly)',\n",
      "       'InteriorEquipment:Gas [kW](Hourly)',\n",
      "       'Water Heater:WaterSystems:Gas [kW](Hourly)'],\n",
      "      dtype='object')\n",
      "(8760, 11)\n",
      "Index(['Date/Time', 'Electricity:Facility [kW](Hourly)',\n",
      "       'Fans:Electricity [kW](Hourly)', 'Cooling:Electricity [kW](Hourly)',\n",
      "       'Heating:Electricity [kW](Hourly)',\n",
      "       'InteriorLights:Electricity [kW](Hourly)',\n",
      "       'InteriorEquipment:Electricity [kW](Hourly)',\n",
      "       'Gas:Facility [kW](Hourly)', 'Heating:Gas [kW](Hourly)',\n",
      "       'Water Heater:WaterSystems:Gas [kW](Hourly)',\n",
      "       'Electricity:Facility [kW](Monthly)'],\n",
      "      dtype='object')\n",
      "(8760, 11)\n",
      "Index(['Date/Time', 'Electricity:Facility [kW](Hourly)',\n",
      "       'Fans:Electricity [kW](Hourly)', 'Cooling:Electricity [kW](Hourly)',\n",
      "       'Heating:Electricity [kW](Hourly)',\n",
      "       'InteriorLights:Electricity [kW](Hourly)',\n",
      "       'InteriorEquipment:Electricity [kW](Hourly)',\n",
      "       'Gas:Facility [kW](Hourly)', 'Heating:Gas [kW](Hourly)',\n",
      "       'InteriorEquipment:Gas [kW](Hourly)',\n",
      "       'Water Heater:WaterSystems:Gas [kW](Hourly)'],\n",
      "      dtype='object')\n",
      "(8760, 11)\n"
     ]
    }
   ],
   "source": [
    "zeros = np.zeros((365,1))\n",
    "for f in file_list:\n",
    "    #df = clean_file(f)\n",
    "    #df = sum_day(df).drop([\"Time\"],axis=1).values\n",
    "    #print(df.shape)\n",
    "    _temp = pd.read_csv(f)\n",
    "    print(_temp.columns)\n",
    "    print(_temp.shape)"
   ]
  },
  {
   "cell_type": "code",
   "execution_count": 29,
   "metadata": {},
   "outputs": [
    {
     "output_type": "execute_result",
     "data": {
      "text/plain": [
       "['Raw DB/commercial/Energy/RefBldgFullServiceRestaurantNew2004_7.1_5.0_3C_USA_CA_SAN_FRANCISCO.csv',\n",
       " 'Raw DB/commercial/Energy/RefBldgPrimarySchoolNew2004_7.1_5.0_3C_USA_CA_SAN_FRANCISCO.csv',\n",
       " 'Raw DB/commercial/Energy/RefBldgHospitalNew2004_7.1_5.0_3C_USA_CA_SAN_FRANCISCO.csv',\n",
       " 'Raw DB/commercial/Energy/RefBldgWarehouseNew2004_7.1_5.0_3C_USA_CA_SAN_FRANCISCO.csv',\n",
       " 'Raw DB/commercial/Energy/RefBldgOutPatientNew2004_7.1_5.0_3C_USA_CA_SAN_FRANCISCO.csv',\n",
       " 'Raw DB/commercial/Energy/RefBldgStand-aloneRetailNew2004_7.1_5.0_3C_USA_CA_SAN_FRANCISCO.csv',\n",
       " 'Raw DB/commercial/Energy/RefBldgLargeOfficeNew2004_7.1_5.0_3C_USA_CA_SAN_FRANCISCO.csv',\n",
       " 'Raw DB/commercial/Energy/RefBldgSmallOfficeNew2004_7.1_5.0_3C_USA_CA_SAN_FRANCISCO.csv',\n",
       " 'Raw DB/commercial/Energy/RefBldgStripMallNew2004_7.1_5.0_3C_USA_CA_SAN_FRANCISCO.csv',\n",
       " 'Raw DB/commercial/Energy/RefBldgMidriseApartmentNew2004_7.1_5.0_3C_USA_CA_SAN_FRANCISCO.csv',\n",
       " 'Raw DB/commercial/Energy/RefBldgSuperMarketNew2004_7.1_5.0_3C_USA_CA_SAN_FRANCISCO.csv',\n",
       " 'Raw DB/commercial/Energy/RefBldgQuickServiceRestaurantNew2004_7.1_5.0_3C_USA_CA_SAN_FRANCISCO.csv',\n",
       " 'Raw DB/commercial/Energy/RefBldgSmallHotelNew2004_7.1_5.0_3C_USA_CA_SAN_FRANCISCO.csv',\n",
       " 'Raw DB/commercial/Energy/RefBldgLargeHotelNew2004_7.1_5.0_3C_USA_CA_SAN_FRANCISCO.csv',\n",
       " 'Raw DB/commercial/Energy/RefBldgMediumOfficeNew2004_7.1_5.0_3C_USA_CA_SAN_FRANCISCO.csv',\n",
       " 'Raw DB/commercial/Energy/RefBldgSecondarySchoolNew2004_7.1_5.0_3C_USA_CA_SAN_FRANCISCO.csv']"
      ]
     },
     "metadata": {},
     "execution_count": 29
    }
   ],
   "source": [
    "file_list"
   ]
  },
  {
   "cell_type": "code",
   "execution_count": 30,
   "metadata": {},
   "outputs": [
    {
     "output_type": "execute_result",
     "data": {
      "text/plain": [
       "        Time Total_Electricity_KW\n",
       "0 2004-01-01              2339.71\n",
       "1 2004-01-02              5320.22\n",
       "2 2004-01-03              5383.23\n",
       "3 2004-01-04              5280.24\n",
       "4 2004-01-05              5287.17"
      ],
      "text/html": "<div>\n<style scoped>\n    .dataframe tbody tr th:only-of-type {\n        vertical-align: middle;\n    }\n\n    .dataframe tbody tr th {\n        vertical-align: top;\n    }\n\n    .dataframe thead th {\n        text-align: right;\n    }\n</style>\n<table border=\"1\" class=\"dataframe\">\n  <thead>\n    <tr style=\"text-align: right;\">\n      <th></th>\n      <th>Time</th>\n      <th>Total_Electricity_KW</th>\n    </tr>\n  </thead>\n  <tbody>\n    <tr>\n      <th>0</th>\n      <td>2004-01-01</td>\n      <td>2339.71</td>\n    </tr>\n    <tr>\n      <th>1</th>\n      <td>2004-01-02</td>\n      <td>5320.22</td>\n    </tr>\n    <tr>\n      <th>2</th>\n      <td>2004-01-03</td>\n      <td>5383.23</td>\n    </tr>\n    <tr>\n      <th>3</th>\n      <td>2004-01-04</td>\n      <td>5280.24</td>\n    </tr>\n    <tr>\n      <th>4</th>\n      <td>2004-01-05</td>\n      <td>5287.17</td>\n    </tr>\n  </tbody>\n</table>\n</div>"
     },
     "metadata": {},
     "execution_count": 30
    }
   ],
   "source": [
    "f = file_list[1]\n",
    "drop_cols = [0,7,8,9,10]\n",
    "df = clean_file_energy(f)\n",
    "df = sum_day_energy(df)\n",
    "#df = df.drop(df.columns[drop_cols],axis=1).values\n",
    "df.head()"
   ]
  },
  {
   "cell_type": "code",
   "execution_count": 31,
   "metadata": {},
   "outputs": [
    {
     "output_type": "execute_result",
     "data": {
      "text/plain": [
       "        Time Total_Electricity_KW\n",
       "0 2004-01-01              2339.71\n",
       "1 2004-01-02              5320.22\n",
       "2 2004-01-03              5383.23\n",
       "3 2004-01-04              5280.24\n",
       "4 2004-01-05              5287.17"
      ],
      "text/html": "<div>\n<style scoped>\n    .dataframe tbody tr th:only-of-type {\n        vertical-align: middle;\n    }\n\n    .dataframe tbody tr th {\n        vertical-align: top;\n    }\n\n    .dataframe thead th {\n        text-align: right;\n    }\n</style>\n<table border=\"1\" class=\"dataframe\">\n  <thead>\n    <tr style=\"text-align: right;\">\n      <th></th>\n      <th>Time</th>\n      <th>Total_Electricity_KW</th>\n    </tr>\n  </thead>\n  <tbody>\n    <tr>\n      <th>0</th>\n      <td>2004-01-01</td>\n      <td>2339.71</td>\n    </tr>\n    <tr>\n      <th>1</th>\n      <td>2004-01-02</td>\n      <td>5320.22</td>\n    </tr>\n    <tr>\n      <th>2</th>\n      <td>2004-01-03</td>\n      <td>5383.23</td>\n    </tr>\n    <tr>\n      <th>3</th>\n      <td>2004-01-04</td>\n      <td>5280.24</td>\n    </tr>\n    <tr>\n      <th>4</th>\n      <td>2004-01-05</td>\n      <td>5287.17</td>\n    </tr>\n  </tbody>\n</table>\n</div>"
     },
     "metadata": {},
     "execution_count": 31
    }
   ],
   "source": [
    "df.head()"
   ]
  },
  {
   "cell_type": "code",
   "execution_count": 32,
   "metadata": {
    "tags": []
   },
   "outputs": [
    {
     "output_type": "stream",
     "name": "stdout",
     "text": [
      "[ True  True  True  True  True  True  True  True  True  True  True]\n",
      "[ True  True  True  True  True  True  True  True  True  True  True]\n",
      "[ True  True  True  True  True  True  True  True  True  True  True]\n",
      "[ True  True  True  True  True  True  True  True  True False False]\n",
      "[ True  True  True  True  True  True  True  True  True  True  True]\n",
      "[ True  True  True  True  True  True  True  True  True False False]\n",
      "[ True  True  True  True  True  True  True  True  True False False]\n",
      "[ True  True  True  True  True  True  True  True  True False False]\n",
      "[ True  True  True  True  True  True  True  True  True False False]\n",
      "[ True  True  True  True  True  True  True  True  True False False]\n",
      "[ True  True  True  True  True  True  True  True  True  True  True]\n",
      "[ True  True  True  True  True  True  True  True  True  True  True]\n",
      "[ True  True  True  True  True  True  True  True  True  True  True]\n",
      "[ True  True  True  True  True  True  True  True  True  True  True]\n",
      "[ True  True  True  True  True  True  True  True  True False False]\n",
      "[ True  True  True  True  True  True  True  True  True  True  True]\n"
     ]
    }
   ],
   "source": [
    "root = pd.read_csv(file_list[0]).columns\n",
    "for f in file_list:\n",
    "    df = pd.read_csv(f)\n",
    "    print(df.columns == root)"
   ]
  },
  {
   "cell_type": "code",
   "execution_count": 33,
   "metadata": {},
   "outputs": [
    {
     "output_type": "execute_result",
     "data": {
      "text/plain": [
       "        Time Total_Electricity_KW\n",
       "0 2004-01-01              1525.27\n",
       "1 2004-01-02              1525.68\n",
       "2 2004-01-03               1527.3\n",
       "3 2004-01-04              1526.38\n",
       "4 2004-01-05              1526.19"
      ],
      "text/html": "<div>\n<style scoped>\n    .dataframe tbody tr th:only-of-type {\n        vertical-align: middle;\n    }\n\n    .dataframe tbody tr th {\n        vertical-align: top;\n    }\n\n    .dataframe thead th {\n        text-align: right;\n    }\n</style>\n<table border=\"1\" class=\"dataframe\">\n  <thead>\n    <tr style=\"text-align: right;\">\n      <th></th>\n      <th>Time</th>\n      <th>Total_Electricity_KW</th>\n    </tr>\n  </thead>\n  <tbody>\n    <tr>\n      <th>0</th>\n      <td>2004-01-01</td>\n      <td>1525.27</td>\n    </tr>\n    <tr>\n      <th>1</th>\n      <td>2004-01-02</td>\n      <td>1525.68</td>\n    </tr>\n    <tr>\n      <th>2</th>\n      <td>2004-01-03</td>\n      <td>1527.3</td>\n    </tr>\n    <tr>\n      <th>3</th>\n      <td>2004-01-04</td>\n      <td>1526.38</td>\n    </tr>\n    <tr>\n      <th>4</th>\n      <td>2004-01-05</td>\n      <td>1526.19</td>\n    </tr>\n  </tbody>\n</table>\n</div>"
     },
     "metadata": {},
     "execution_count": 33
    }
   ],
   "source": [
    "df = clean_file_energy(file_list[0])\n",
    "df = sum_day_energy(df)\n",
    "df.head()\n"
   ]
  },
  {
   "cell_type": "code",
   "execution_count": 34,
   "metadata": {},
   "outputs": [
    {
     "output_type": "execute_result",
     "data": {
      "text/plain": [
       "        Time Total_Electricity_KW\n",
       "0 2004-01-01              38357.3\n",
       "1 2004-01-02              47659.5\n",
       "2 2004-01-03              48048.4\n",
       "3 2004-01-04              47547.3\n",
       "4 2004-01-05              47462.4"
      ],
      "text/html": "<div>\n<style scoped>\n    .dataframe tbody tr th:only-of-type {\n        vertical-align: middle;\n    }\n\n    .dataframe tbody tr th {\n        vertical-align: top;\n    }\n\n    .dataframe thead th {\n        text-align: right;\n    }\n</style>\n<table border=\"1\" class=\"dataframe\">\n  <thead>\n    <tr style=\"text-align: right;\">\n      <th></th>\n      <th>Time</th>\n      <th>Total_Electricity_KW</th>\n    </tr>\n  </thead>\n  <tbody>\n    <tr>\n      <th>0</th>\n      <td>2004-01-01</td>\n      <td>38357.3</td>\n    </tr>\n    <tr>\n      <th>1</th>\n      <td>2004-01-02</td>\n      <td>47659.5</td>\n    </tr>\n    <tr>\n      <th>2</th>\n      <td>2004-01-03</td>\n      <td>48048.4</td>\n    </tr>\n    <tr>\n      <th>3</th>\n      <td>2004-01-04</td>\n      <td>47547.3</td>\n    </tr>\n    <tr>\n      <th>4</th>\n      <td>2004-01-05</td>\n      <td>47462.4</td>\n    </tr>\n  </tbody>\n</table>\n</div>"
     },
     "metadata": {},
     "execution_count": 34
    }
   ],
   "source": [
    "df = clean_file_energy(file_list[2])\n",
    "df = sum_day_energy(df)\n",
    "df.head()\n"
   ]
  },
  {
   "cell_type": "code",
   "execution_count": 35,
   "metadata": {},
   "outputs": [
    {
     "output_type": "execute_result",
     "data": {
      "text/plain": [
       "   Bank holidays                        Type\n",
       "0     2004-01-01              New Year’s Day\n",
       "1     2004-01-19  Martin Luther King Jr. Day\n",
       "2     2004-02-12          Lincoln's Birthday\n",
       "3     2004-02-16       Washington's Birthday\n",
       "4     2004-03-31            Cesar Chavez Day\n",
       "5     2004-05-31                Memorial Day\n",
       "6     2004-07-05            Independence Day\n",
       "7     2004-09-06                   Labor Day\n",
       "8     2004-09-24         Native American Day\n",
       "9     2004-10-11                Columbus Day\n",
       "10    2004-11-11                Veterans Day\n",
       "11    2004-11-25                Thanksgiving\n",
       "12    2004-12-24               Christmas Day\n",
       "13    2004-12-31              New Year's Day"
      ],
      "text/html": "<div>\n<style scoped>\n    .dataframe tbody tr th:only-of-type {\n        vertical-align: middle;\n    }\n\n    .dataframe tbody tr th {\n        vertical-align: top;\n    }\n\n    .dataframe thead th {\n        text-align: right;\n    }\n</style>\n<table border=\"1\" class=\"dataframe\">\n  <thead>\n    <tr style=\"text-align: right;\">\n      <th></th>\n      <th>Bank holidays</th>\n      <th>Type</th>\n    </tr>\n  </thead>\n  <tbody>\n    <tr>\n      <th>0</th>\n      <td>2004-01-01</td>\n      <td>New Year’s Day</td>\n    </tr>\n    <tr>\n      <th>1</th>\n      <td>2004-01-19</td>\n      <td>Martin Luther King Jr. Day</td>\n    </tr>\n    <tr>\n      <th>2</th>\n      <td>2004-02-12</td>\n      <td>Lincoln's Birthday</td>\n    </tr>\n    <tr>\n      <th>3</th>\n      <td>2004-02-16</td>\n      <td>Washington's Birthday</td>\n    </tr>\n    <tr>\n      <th>4</th>\n      <td>2004-03-31</td>\n      <td>Cesar Chavez Day</td>\n    </tr>\n    <tr>\n      <th>5</th>\n      <td>2004-05-31</td>\n      <td>Memorial Day</td>\n    </tr>\n    <tr>\n      <th>6</th>\n      <td>2004-07-05</td>\n      <td>Independence Day</td>\n    </tr>\n    <tr>\n      <th>7</th>\n      <td>2004-09-06</td>\n      <td>Labor Day</td>\n    </tr>\n    <tr>\n      <th>8</th>\n      <td>2004-09-24</td>\n      <td>Native American Day</td>\n    </tr>\n    <tr>\n      <th>9</th>\n      <td>2004-10-11</td>\n      <td>Columbus Day</td>\n    </tr>\n    <tr>\n      <th>10</th>\n      <td>2004-11-11</td>\n      <td>Veterans Day</td>\n    </tr>\n    <tr>\n      <th>11</th>\n      <td>2004-11-25</td>\n      <td>Thanksgiving</td>\n    </tr>\n    <tr>\n      <th>12</th>\n      <td>2004-12-24</td>\n      <td>Christmas Day</td>\n    </tr>\n    <tr>\n      <th>13</th>\n      <td>2004-12-31</td>\n      <td>New Year's Day</td>\n    </tr>\n  </tbody>\n</table>\n</div>"
     },
     "metadata": {},
     "execution_count": 35
    }
   ],
   "source": [
    "pd.read_csv(\"Raw DB/commercial/holiday.csv\")"
   ]
  },
  {
   "cell_type": "code",
   "execution_count": 36,
   "metadata": {},
   "outputs": [
    {
     "output_type": "execute_result",
     "data": {
      "text/plain": [
       "   Unnamed: 0        Time  Total_Electricity_[MW]  Avg_Electricity_[MW]\n",
       "0           0  2004-01-01               91.544051              5.721503\n",
       "1           1  2004-01-02              139.309069              8.706817\n",
       "2           2  2004-01-03              142.005346              8.875334\n",
       "3           3  2004-01-04              136.463365              8.528960\n",
       "4           4  2004-01-05              136.404463              8.525279"
      ],
      "text/html": "<div>\n<style scoped>\n    .dataframe tbody tr th:only-of-type {\n        vertical-align: middle;\n    }\n\n    .dataframe tbody tr th {\n        vertical-align: top;\n    }\n\n    .dataframe thead th {\n        text-align: right;\n    }\n</style>\n<table border=\"1\" class=\"dataframe\">\n  <thead>\n    <tr style=\"text-align: right;\">\n      <th></th>\n      <th>Unnamed: 0</th>\n      <th>Time</th>\n      <th>Total_Electricity_[MW]</th>\n      <th>Avg_Electricity_[MW]</th>\n    </tr>\n  </thead>\n  <tbody>\n    <tr>\n      <th>0</th>\n      <td>0</td>\n      <td>2004-01-01</td>\n      <td>91.544051</td>\n      <td>5.721503</td>\n    </tr>\n    <tr>\n      <th>1</th>\n      <td>1</td>\n      <td>2004-01-02</td>\n      <td>139.309069</td>\n      <td>8.706817</td>\n    </tr>\n    <tr>\n      <th>2</th>\n      <td>2</td>\n      <td>2004-01-03</td>\n      <td>142.005346</td>\n      <td>8.875334</td>\n    </tr>\n    <tr>\n      <th>3</th>\n      <td>3</td>\n      <td>2004-01-04</td>\n      <td>136.463365</td>\n      <td>8.528960</td>\n    </tr>\n    <tr>\n      <th>4</th>\n      <td>4</td>\n      <td>2004-01-05</td>\n      <td>136.404463</td>\n      <td>8.525279</td>\n    </tr>\n  </tbody>\n</table>\n</div>"
     },
     "metadata": {},
     "execution_count": 36
    }
   ],
   "source": [
    "df = pd.read_csv(final_path + \"merged_energy.csv\")\n",
    "df.head()"
   ]
  },
  {
   "cell_type": "code",
   "execution_count": null,
   "metadata": {},
   "outputs": [],
   "source": []
  },
  {
   "cell_type": "code",
   "execution_count": 9,
   "metadata": {},
   "outputs": [],
   "source": [
    "file_name = final_path + \"merged_energy.csv\"\n",
    "loc = raw_path\n",
    "file_list = create_file_list(loc)"
   ]
  },
  {
   "cell_type": "code",
   "execution_count": 10,
   "metadata": {},
   "outputs": [
    {
     "output_type": "execute_result",
     "data": {
      "text/plain": [
       "['Raw DB/commercial/Energy/RefBldgFullServiceRestaurantNew2004_7.1_5.0_3C_USA_CA_SAN_FRANCISCO.csv',\n",
       " 'Raw DB/commercial/Energy/RefBldgPrimarySchoolNew2004_7.1_5.0_3C_USA_CA_SAN_FRANCISCO.csv',\n",
       " 'Raw DB/commercial/Energy/RefBldgHospitalNew2004_7.1_5.0_3C_USA_CA_SAN_FRANCISCO.csv',\n",
       " 'Raw DB/commercial/Energy/RefBldgWarehouseNew2004_7.1_5.0_3C_USA_CA_SAN_FRANCISCO.csv',\n",
       " 'Raw DB/commercial/Energy/RefBldgOutPatientNew2004_7.1_5.0_3C_USA_CA_SAN_FRANCISCO.csv',\n",
       " 'Raw DB/commercial/Energy/RefBldgStand-aloneRetailNew2004_7.1_5.0_3C_USA_CA_SAN_FRANCISCO.csv',\n",
       " 'Raw DB/commercial/Energy/RefBldgLargeOfficeNew2004_7.1_5.0_3C_USA_CA_SAN_FRANCISCO.csv',\n",
       " 'Raw DB/commercial/Energy/RefBldgSmallOfficeNew2004_7.1_5.0_3C_USA_CA_SAN_FRANCISCO.csv',\n",
       " 'Raw DB/commercial/Energy/RefBldgStripMallNew2004_7.1_5.0_3C_USA_CA_SAN_FRANCISCO.csv',\n",
       " 'Raw DB/commercial/Energy/RefBldgMidriseApartmentNew2004_7.1_5.0_3C_USA_CA_SAN_FRANCISCO.csv',\n",
       " 'Raw DB/commercial/Energy/RefBldgSuperMarketNew2004_7.1_5.0_3C_USA_CA_SAN_FRANCISCO.csv',\n",
       " 'Raw DB/commercial/Energy/RefBldgQuickServiceRestaurantNew2004_7.1_5.0_3C_USA_CA_SAN_FRANCISCO.csv',\n",
       " 'Raw DB/commercial/Energy/RefBldgSmallHotelNew2004_7.1_5.0_3C_USA_CA_SAN_FRANCISCO.csv',\n",
       " 'Raw DB/commercial/Energy/RefBldgLargeHotelNew2004_7.1_5.0_3C_USA_CA_SAN_FRANCISCO.csv',\n",
       " 'Raw DB/commercial/Energy/RefBldgMediumOfficeNew2004_7.1_5.0_3C_USA_CA_SAN_FRANCISCO.csv',\n",
       " 'Raw DB/commercial/Energy/RefBldgSecondarySchoolNew2004_7.1_5.0_3C_USA_CA_SAN_FRANCISCO.csv']"
      ]
     },
     "metadata": {},
     "execution_count": 10
    }
   ],
   "source": [
    "file_list"
   ]
  },
  {
   "cell_type": "code",
   "execution_count": 13,
   "metadata": {},
   "outputs": [
    {
     "output_type": "execute_result",
     "data": {
      "text/plain": [
       "          Time Total_Electricity_KW\n",
       "0   2004-01-01              1525.27\n",
       "1   2004-01-02              1525.68\n",
       "2   2004-01-03               1527.3\n",
       "3   2004-01-04              1526.38\n",
       "4   2004-01-05              1526.19\n",
       "..         ...                  ...\n",
       "360 2004-12-27              1524.77\n",
       "361 2004-12-28              1525.65\n",
       "362 2004-12-29              1526.82\n",
       "363 2004-12-30              1526.08\n",
       "364 2004-12-31              1526.28\n",
       "\n",
       "[365 rows x 2 columns]"
      ],
      "text/html": "<div>\n<style scoped>\n    .dataframe tbody tr th:only-of-type {\n        vertical-align: middle;\n    }\n\n    .dataframe tbody tr th {\n        vertical-align: top;\n    }\n\n    .dataframe thead th {\n        text-align: right;\n    }\n</style>\n<table border=\"1\" class=\"dataframe\">\n  <thead>\n    <tr style=\"text-align: right;\">\n      <th></th>\n      <th>Time</th>\n      <th>Total_Electricity_KW</th>\n    </tr>\n  </thead>\n  <tbody>\n    <tr>\n      <th>0</th>\n      <td>2004-01-01</td>\n      <td>1525.27</td>\n    </tr>\n    <tr>\n      <th>1</th>\n      <td>2004-01-02</td>\n      <td>1525.68</td>\n    </tr>\n    <tr>\n      <th>2</th>\n      <td>2004-01-03</td>\n      <td>1527.3</td>\n    </tr>\n    <tr>\n      <th>3</th>\n      <td>2004-01-04</td>\n      <td>1526.38</td>\n    </tr>\n    <tr>\n      <th>4</th>\n      <td>2004-01-05</td>\n      <td>1526.19</td>\n    </tr>\n    <tr>\n      <th>...</th>\n      <td>...</td>\n      <td>...</td>\n    </tr>\n    <tr>\n      <th>360</th>\n      <td>2004-12-27</td>\n      <td>1524.77</td>\n    </tr>\n    <tr>\n      <th>361</th>\n      <td>2004-12-28</td>\n      <td>1525.65</td>\n    </tr>\n    <tr>\n      <th>362</th>\n      <td>2004-12-29</td>\n      <td>1526.82</td>\n    </tr>\n    <tr>\n      <th>363</th>\n      <td>2004-12-30</td>\n      <td>1526.08</td>\n    </tr>\n    <tr>\n      <th>364</th>\n      <td>2004-12-31</td>\n      <td>1526.28</td>\n    </tr>\n  </tbody>\n</table>\n<p>365 rows × 2 columns</p>\n</div>"
     },
     "metadata": {},
     "execution_count": 13
    }
   ],
   "source": [
    "test = sum_day_energy(clean_file_energy(file_list[0]))\n",
    "test"
   ]
  },
  {
   "cell_type": "code",
   "execution_count": 14,
   "metadata": {},
   "outputs": [],
   "source": [
    "total = sum(test.Total_Electricity_KW)"
   ]
  },
  {
   "cell_type": "code",
   "execution_count": 18,
   "metadata": {},
   "outputs": [
    {
     "output_type": "execute_result",
     "data": {
      "text/plain": [
       "float"
      ]
     },
     "metadata": {},
     "execution_count": 18
    }
   ],
   "source": [
    "type(total)"
   ]
  },
  {
   "cell_type": "code",
   "execution_count": 20,
   "metadata": {},
   "outputs": [
    {
     "output_type": "execute_result",
     "data": {
      "text/plain": [
       "'dataset1'"
      ]
     },
     "metadata": {},
     "execution_count": 20
    }
   ],
   "source": [
    "\"dataset\" + str(1)"
   ]
  },
  {
   "cell_type": "code",
   "execution_count": 27,
   "metadata": {},
   "outputs": [],
   "source": [
    "dict = {}\n",
    "count = 1\n",
    "total = 0\n",
    "for idx in range(len(file_list)):\n",
    "    _ = sum(sum_day_energy(clean_file_energy(file_list[idx])).Total_Electricity_KW)\n",
    "    dict[\"dataset \" + str(count)] = _\n",
    "    total += _\n",
    "    count += 1"
   ]
  },
  {
   "cell_type": "code",
   "execution_count": 28,
   "metadata": {},
   "outputs": [
    {
     "output_type": "execute_result",
     "data": {
      "text/plain": [
       "{'dataset 1': 559651.3347444182,\n",
       " 'dataset 2': 1596238.7376253693,\n",
       " 'dataset 3': 16362651.923353955,\n",
       " 'dataset 4': 426788.54548589484,\n",
       " 'dataset 5': 2362039.4742112234,\n",
       " 'dataset 6': 494863.6608398947,\n",
       " 'dataset 7': 10839866.074022248,\n",
       " 'dataset 8': 111438.11999123721,\n",
       " 'dataset 9': 476993.2788695042,\n",
       " 'dataset 10': 419749.3934448043,\n",
       " 'dataset 11': 2222051.8663918735,\n",
       " 'dataset 12': 342413.37485544523,\n",
       " 'dataset 13': 1081731.0842573121,\n",
       " 'dataset 14': 4432557.039182952,\n",
       " 'dataset 15': 1254729.3995049486,\n",
       " 'dataset 16': 5214536.613214047}"
      ]
     },
     "metadata": {},
     "execution_count": 28
    }
   ],
   "source": [
    "dict"
   ]
  },
  {
   "cell_type": "code",
   "execution_count": 29,
   "metadata": {},
   "outputs": [
    {
     "output_type": "execute_result",
     "data": {
      "text/plain": [
       "48198299.91999513"
      ]
     },
     "metadata": {},
     "execution_count": 29
    }
   ],
   "source": [
    "total "
   ]
  },
  {
   "cell_type": "code",
   "execution_count": 42,
   "metadata": {},
   "outputs": [],
   "source": [
    "percentdict = {}\n",
    "dictvalue = list(dict.values())\n",
    "for idx, item in enumerate(dictvalue):\n",
    "    percentdict[\"dataset \" + str(idx)] = round(item / total *100, 4)"
   ]
  },
  {
   "cell_type": "code",
   "execution_count": 43,
   "metadata": {},
   "outputs": [
    {
     "output_type": "execute_result",
     "data": {
      "text/plain": [
       "{'dataset 0': 1.1611,\n",
       " 'dataset 1': 3.3118,\n",
       " 'dataset 2': 33.9486,\n",
       " 'dataset 3': 0.8855,\n",
       " 'dataset 4': 4.9007,\n",
       " 'dataset 5': 1.0267,\n",
       " 'dataset 6': 22.4901,\n",
       " 'dataset 7': 0.2312,\n",
       " 'dataset 8': 0.9896,\n",
       " 'dataset 9': 0.8709,\n",
       " 'dataset 10': 4.6102,\n",
       " 'dataset 11': 0.7104,\n",
       " 'dataset 12': 2.2443,\n",
       " 'dataset 13': 9.1965,\n",
       " 'dataset 14': 2.6033,\n",
       " 'dataset 15': 10.8189}"
      ]
     },
     "metadata": {},
     "execution_count": 43
    }
   ],
   "source": [
    "percentdict"
   ]
  },
  {
   "cell_type": "code",
   "execution_count": 44,
   "metadata": {},
   "outputs": [
    {
     "output_type": "execute_result",
     "data": {
      "text/plain": [
       "<function matplotlib.pyplot.pie(x, explode=None, labels=None, colors=None, autopct=None, pctdistance=0.6, shadow=False, labeldistance=1.1, startangle=0, radius=1, counterclock=True, wedgeprops=None, textprops=None, center=(0, 0), frame=False, rotatelabels=False, *, normalize=None, data=None)>"
      ]
     },
     "metadata": {},
     "execution_count": 44
    }
   ],
   "source": [
    "import matplotlib\n",
    "matplotlib.axes.Axes.pie\n",
    "matplotlib.pyplot.pie"
   ]
  },
  {
   "cell_type": "code",
   "execution_count": 88,
   "metadata": {},
   "outputs": [
    {
     "output_type": "display_data",
     "data": {
      "text/plain": "<Figure size 720x720 with 1 Axes>",
      "image/svg+xml": "<?xml version=\"1.0\" encoding=\"utf-8\" standalone=\"no\"?>\n<!DOCTYPE svg PUBLIC \"-//W3C//DTD SVG 1.1//EN\"\n  \"http://www.w3.org/Graphics/SVG/1.1/DTD/svg11.dtd\">\n<!-- Created with matplotlib (https://matplotlib.org/) -->\n<svg height=\"705.136968pt\" version=\"1.1\" viewBox=\"0 0 712.394018 705.136968\" width=\"712.394018pt\" xmlns=\"http://www.w3.org/2000/svg\" xmlns:xlink=\"http://www.w3.org/1999/xlink\">\n <metadata>\n  <rdf:RDF xmlns:cc=\"http://creativecommons.org/ns#\" xmlns:dc=\"http://purl.org/dc/elements/1.1/\" xmlns:rdf=\"http://www.w3.org/1999/02/22-rdf-syntax-ns#\">\n   <cc:Work>\n    <dc:type rdf:resource=\"http://purl.org/dc/dcmitype/StillImage\"/>\n    <dc:date>2021-01-20T04:32:56.647482</dc:date>\n    <dc:format>image/svg+xml</dc:format>\n    <dc:creator>\n     <cc:Agent>\n      <dc:title>Matplotlib v3.3.2, https://matplotlib.org/</dc:title>\n     </cc:Agent>\n    </dc:creator>\n   </cc:Work>\n  </rdf:RDF>\n </metadata>\n <defs>\n  <style type=\"text/css\">*{stroke-linecap:butt;stroke-linejoin:round;}</style>\n </defs>\n <g id=\"figure_1\">\n  <g id=\"patch_1\">\n   <path d=\"M 0 705.136968 \nL 712.394018 705.136968 \nL 712.394018 0 \nL 0 0 \nz\n\" style=\"fill:none;\"/>\n  </g>\n  <g id=\"axes_1\">\n   <g id=\"patch_2\">\n    <path d=\"M 354.687385 132.224822 \nC 351.902394 132.224822 349.117634 132.275618 346.334495 132.377184 \nC 343.551356 132.47875 340.770301 132.631069 337.992718 132.834065 \nL 354.687385 361.265557 \nL 354.687385 132.224822 \nz\n\" style=\"fill:#1f77b4;\"/>\n   </g>\n   <g id=\"patch_3\">\n    <path d=\"M 337.992718 132.834065 \nC 330.068663 133.413186 322.180107 134.404231 314.359048 135.80318 \nC 306.537989 137.202129 298.795016 139.007087 291.16154 141.210734 \nL 354.687385 361.265557 \nL 337.992718 132.834065 \nz\n\" style=\"fill:#ff7f0e;\"/>\n   </g>\n   <g id=\"patch_4\">\n    <path d=\"M 268.825755 136.140299 \nC 229.479708 147.498791 193.890798 169.204771 165.781921 198.987616 \nC 137.673044 228.77046 118.059751 265.554137 108.993756 305.490768 \nC 99.927762 345.4274 101.736612 387.074107 114.231086 426.074298 \nC 126.725561 465.074489 149.454244 500.019117 180.039527 527.252686 \nL 332.351601 356.195121 \nL 268.825755 136.140299 \nz\n\" style=\"fill:#2ca02c;\"/>\n   </g>\n   <g id=\"patch_5\">\n    <path d=\"M 202.375312 532.323121 \nC 203.961546 533.735526 205.56735 535.1258 207.192257 536.493537 \nC 208.817164 537.861275 210.461017 539.206344 212.123339 540.528355 \nL 354.687385 361.265557 \nL 202.375312 532.323121 \nz\n\" style=\"fill:#d62728;\"/>\n   </g>\n   <g id=\"patch_6\">\n    <path d=\"M 212.123339 540.528355 \nC 221.327667 547.848369 231.082115 554.448624 241.300114 560.270544 \nC 251.518114 566.092463 262.169349 571.118775 273.159292 575.304871 \nL 354.687385 361.265557 \nL 212.123339 540.528355 \nz\n\" style=\"fill:#9467bd;\"/>\n   </g>\n   <g id=\"patch_7\">\n    <path d=\"M 273.159292 575.304871 \nC 275.460607 576.181447 277.775909 577.020852 280.104296 577.822756 \nC 282.432682 578.624661 284.77385 579.388962 287.126886 580.115361 \nL 354.687385 361.265557 \nL 273.159292 575.304871 \nz\n\" style=\"fill:#8c564b;\"/>\n   </g>\n   <g id=\"patch_8\">\n    <path d=\"M 296.196193 601.147343 \nC 348.268704 617.2225 404.406843 614.196612 454.449754 592.617358 \nC 504.492664 571.038104 545.227282 532.291005 569.280746 483.389186 \nL 363.756691 382.297539 \nL 296.196193 601.147343 \nz\n\" style=\"fill:#e377c2;\"/>\n   </g>\n   <g id=\"patch_9\">\n    <path d=\"M 560.21144 462.357204 \nC 560.456195 461.859604 560.699143 461.361116 560.940278 460.861752 \nC 561.181414 460.362387 561.420734 459.862148 561.658236 459.361045 \nL 354.687385 361.265557 \nL 560.21144 462.357204 \nz\n\" style=\"fill:#7f7f7f;\"/>\n   </g>\n   <g id=\"patch_10\">\n    <path d=\"M 561.658236 459.361045 \nC 562.674829 457.216145 563.658018 455.055572 564.607446 452.880108 \nC 565.556875 450.704644 566.472429 448.514553 567.353776 446.310628 \nL 354.687385 361.265557 \nL 561.658236 459.361045 \nz\n\" style=\"fill:#bcbd22;\"/>\n   </g>\n   <g id=\"patch_11\">\n    <path d=\"M 567.353776 446.310628 \nC 568.129405 444.371067 568.878463 442.420986 569.600741 440.460933 \nC 570.323019 438.500879 571.018449 436.531036 571.686836 434.551957 \nL 354.687385 361.265557 \nL 567.353776 446.310628 \nz\n\" style=\"fill:#17becf;\"/>\n   </g>\n   <g id=\"patch_12\">\n    <path d=\"M 571.686836 434.551957 \nC 575.226502 424.071082 578.002197 413.347521 579.992117 402.465508 \nC 581.982037 391.583495 583.180958 380.5716 583.579462 369.516322 \nL 354.687385 361.265557 \nL 571.686836 434.551957 \nz\n\" style=\"fill:#1f77b4;\"/>\n   </g>\n   <g id=\"patch_13\">\n    <path d=\"M 583.579462 369.516322 \nC 583.640843 367.813506 583.68322 366.110058 583.706585 364.406296 \nC 583.72995 362.702535 583.734302 360.998565 583.71964 359.294707 \nL 354.687385 361.265557 \nL 583.579462 369.516322 \nz\n\" style=\"fill:#ff7f0e;\"/>\n   </g>\n   <g id=\"patch_14\">\n    <path d=\"M 583.71964 359.294707 \nC 583.673316 353.911364 583.437205 348.531329 583.011747 343.164625 \nC 582.58629 337.797922 581.97175 332.447887 581.169273 327.124491 \nL 354.687385 361.265557 \nL 583.71964 359.294707 \nz\n\" style=\"fill:#2ca02c;\"/>\n   </g>\n   <g id=\"patch_15\">\n    <path d=\"M 601.906034 317.399093 \nC 598.612346 295.549732 592.174119 274.291534 582.791747 254.286184 \nC 573.409376 234.280833 561.181227 215.738069 546.487914 199.235054 \nL 375.424145 351.540159 \nL 601.906034 317.399093 \nz\n\" style=\"fill:#d62728;\"/>\n   </g>\n   <g id=\"patch_16\">\n    <path d=\"M 525.751154 208.960451 \nC 521.598472 204.296304 517.25677 199.803945 512.736935 195.494637 \nC 508.2171 191.18533 503.522912 187.062678 498.66614 183.137018 \nL 354.687385 361.265557 \nL 525.751154 208.960451 \nz\n\" style=\"fill:#9467bd;\"/>\n   </g>\n   <g id=\"patch_17\">\n    <path d=\"M 506.3019 161.543228 \nC 486.072295 145.191927 463.204257 132.405606 438.680739 123.733869 \nC 414.157221 115.062131 388.334702 110.63103 362.323129 110.631032 \nL 362.323145 339.671767 \nL 506.3019 161.543228 \nz\n\" style=\"fill:#8c564b;\"/>\n   </g>\n   <g id=\"matplotlib.axis_1\"/>\n   <g id=\"matplotlib.axis_2\"/>\n   <g id=\"text_1\">\n    <!-- 1.2% -->\n    <g transform=\"translate(327.715925 113.351471)scale(0.14 -0.14)\">\n     <defs>\n      <path d=\"M 12.40625 8.296875 \nL 28.515625 8.296875 \nL 28.515625 63.921875 \nL 10.984375 60.40625 \nL 10.984375 69.390625 \nL 28.421875 72.90625 \nL 38.28125 72.90625 \nL 38.28125 8.296875 \nL 54.390625 8.296875 \nL 54.390625 0 \nL 12.40625 0 \nz\n\" id=\"DejaVuSans-49\"/>\n      <path d=\"M 10.6875 12.40625 \nL 21 12.40625 \nL 21 0 \nL 10.6875 0 \nz\n\" id=\"DejaVuSans-46\"/>\n      <path d=\"M 19.1875 8.296875 \nL 53.609375 8.296875 \nL 53.609375 0 \nL 7.328125 0 \nL 7.328125 8.296875 \nQ 12.9375 14.109375 22.625 23.890625 \nQ 32.328125 33.6875 34.8125 36.53125 \nQ 39.546875 41.84375 41.421875 45.53125 \nQ 43.3125 49.21875 43.3125 52.78125 \nQ 43.3125 58.59375 39.234375 62.25 \nQ 35.15625 65.921875 28.609375 65.921875 \nQ 23.96875 65.921875 18.8125 64.3125 \nQ 13.671875 62.703125 7.8125 59.421875 \nL 7.8125 69.390625 \nQ 13.765625 71.78125 18.9375 73 \nQ 24.125 74.21875 28.421875 74.21875 \nQ 39.75 74.21875 46.484375 68.546875 \nQ 53.21875 62.890625 53.21875 53.421875 \nQ 53.21875 48.921875 51.53125 44.890625 \nQ 49.859375 40.875 45.40625 35.40625 \nQ 44.1875 33.984375 37.640625 27.21875 \nQ 31.109375 20.453125 19.1875 8.296875 \nz\n\" id=\"DejaVuSans-50\"/>\n      <path d=\"M 72.703125 32.078125 \nQ 68.453125 32.078125 66.03125 28.46875 \nQ 63.625 24.859375 63.625 18.40625 \nQ 63.625 12.0625 66.03125 8.421875 \nQ 68.453125 4.78125 72.703125 4.78125 \nQ 76.859375 4.78125 79.265625 8.421875 \nQ 81.6875 12.0625 81.6875 18.40625 \nQ 81.6875 24.8125 79.265625 28.4375 \nQ 76.859375 32.078125 72.703125 32.078125 \nz\nM 72.703125 38.28125 \nQ 80.421875 38.28125 84.953125 32.90625 \nQ 89.5 27.546875 89.5 18.40625 \nQ 89.5 9.28125 84.9375 3.921875 \nQ 80.375 -1.421875 72.703125 -1.421875 \nQ 64.890625 -1.421875 60.34375 3.921875 \nQ 55.8125 9.28125 55.8125 18.40625 \nQ 55.8125 27.59375 60.375 32.9375 \nQ 64.9375 38.28125 72.703125 38.28125 \nz\nM 22.3125 68.015625 \nQ 18.109375 68.015625 15.6875 64.375 \nQ 13.28125 60.75 13.28125 54.390625 \nQ 13.28125 47.953125 15.671875 44.328125 \nQ 18.0625 40.71875 22.3125 40.71875 \nQ 26.5625 40.71875 28.96875 44.328125 \nQ 31.390625 47.953125 31.390625 54.390625 \nQ 31.390625 60.6875 28.953125 64.34375 \nQ 26.515625 68.015625 22.3125 68.015625 \nz\nM 66.40625 74.21875 \nL 74.21875 74.21875 \nL 28.609375 -1.421875 \nL 20.796875 -1.421875 \nz\nM 22.3125 74.21875 \nQ 30.03125 74.21875 34.609375 68.875 \nQ 39.203125 63.53125 39.203125 54.390625 \nQ 39.203125 45.171875 34.640625 39.84375 \nQ 30.078125 34.515625 22.3125 34.515625 \nQ 14.546875 34.515625 10.03125 39.859375 \nQ 5.515625 45.21875 5.515625 54.390625 \nQ 5.515625 63.484375 10.046875 68.84375 \nQ 14.59375 74.21875 22.3125 74.21875 \nz\n\" id=\"DejaVuSans-37\"/>\n     </defs>\n     <use xlink:href=\"#DejaVuSans-49\"/>\n     <use x=\"63.623047\" xlink:href=\"#DejaVuSans-46\"/>\n     <use x=\"95.410156\" xlink:href=\"#DejaVuSans-50\"/>\n     <use x=\"159.033203\" xlink:href=\"#DejaVuSans-37\"/>\n    </g>\n   </g>\n   <g id=\"text_2\">\n    <!-- 3.3% -->\n    <g transform=\"translate(292.542933 117.120067)scale(0.14 -0.14)\">\n     <defs>\n      <path d=\"M 40.578125 39.3125 \nQ 47.65625 37.796875 51.625 33 \nQ 55.609375 28.21875 55.609375 21.1875 \nQ 55.609375 10.40625 48.1875 4.484375 \nQ 40.765625 -1.421875 27.09375 -1.421875 \nQ 22.515625 -1.421875 17.65625 -0.515625 \nQ 12.796875 0.390625 7.625 2.203125 \nL 7.625 11.71875 \nQ 11.71875 9.328125 16.59375 8.109375 \nQ 21.484375 6.890625 26.8125 6.890625 \nQ 36.078125 6.890625 40.9375 10.546875 \nQ 45.796875 14.203125 45.796875 21.1875 \nQ 45.796875 27.640625 41.28125 31.265625 \nQ 36.765625 34.90625 28.71875 34.90625 \nL 20.21875 34.90625 \nL 20.21875 43.015625 \nL 29.109375 43.015625 \nQ 36.375 43.015625 40.234375 45.921875 \nQ 44.09375 48.828125 44.09375 54.296875 \nQ 44.09375 59.90625 40.109375 62.90625 \nQ 36.140625 65.921875 28.71875 65.921875 \nQ 24.65625 65.921875 20.015625 65.03125 \nQ 15.375 64.15625 9.8125 62.3125 \nL 9.8125 71.09375 \nQ 15.4375 72.65625 20.34375 73.4375 \nQ 25.25 74.21875 29.59375 74.21875 \nQ 40.828125 74.21875 47.359375 69.109375 \nQ 53.90625 64.015625 53.90625 55.328125 \nQ 53.90625 49.265625 50.4375 45.09375 \nQ 46.96875 40.921875 40.578125 39.3125 \nz\n\" id=\"DejaVuSans-51\"/>\n     </defs>\n     <use xlink:href=\"#DejaVuSans-51\"/>\n     <use x=\"63.623047\" xlink:href=\"#DejaVuSans-46\"/>\n     <use x=\"95.410156\" xlink:href=\"#DejaVuSans-51\"/>\n     <use x=\"159.033203\" xlink:href=\"#DejaVuSans-37\"/>\n    </g>\n   </g>\n   <g id=\"text_3\">\n    <!-- Hospital -->\n    <g transform=\"translate(7.2 299.213023)scale(0.14 -0.14)\">\n     <defs>\n      <path d=\"M 9.8125 72.90625 \nL 19.671875 72.90625 \nL 19.671875 43.015625 \nL 55.515625 43.015625 \nL 55.515625 72.90625 \nL 65.375 72.90625 \nL 65.375 0 \nL 55.515625 0 \nL 55.515625 34.71875 \nL 19.671875 34.71875 \nL 19.671875 0 \nL 9.8125 0 \nz\n\" id=\"DejaVuSans-72\"/>\n      <path d=\"M 30.609375 48.390625 \nQ 23.390625 48.390625 19.1875 42.75 \nQ 14.984375 37.109375 14.984375 27.296875 \nQ 14.984375 17.484375 19.15625 11.84375 \nQ 23.34375 6.203125 30.609375 6.203125 \nQ 37.796875 6.203125 41.984375 11.859375 \nQ 46.1875 17.53125 46.1875 27.296875 \nQ 46.1875 37.015625 41.984375 42.703125 \nQ 37.796875 48.390625 30.609375 48.390625 \nz\nM 30.609375 56 \nQ 42.328125 56 49.015625 48.375 \nQ 55.71875 40.765625 55.71875 27.296875 \nQ 55.71875 13.875 49.015625 6.21875 \nQ 42.328125 -1.421875 30.609375 -1.421875 \nQ 18.84375 -1.421875 12.171875 6.21875 \nQ 5.515625 13.875 5.515625 27.296875 \nQ 5.515625 40.765625 12.171875 48.375 \nQ 18.84375 56 30.609375 56 \nz\n\" id=\"DejaVuSans-111\"/>\n      <path d=\"M 44.28125 53.078125 \nL 44.28125 44.578125 \nQ 40.484375 46.53125 36.375 47.5 \nQ 32.28125 48.484375 27.875 48.484375 \nQ 21.1875 48.484375 17.84375 46.4375 \nQ 14.5 44.390625 14.5 40.28125 \nQ 14.5 37.15625 16.890625 35.375 \nQ 19.28125 33.59375 26.515625 31.984375 \nL 29.59375 31.296875 \nQ 39.15625 29.25 43.1875 25.515625 \nQ 47.21875 21.78125 47.21875 15.09375 \nQ 47.21875 7.46875 41.1875 3.015625 \nQ 35.15625 -1.421875 24.609375 -1.421875 \nQ 20.21875 -1.421875 15.453125 -0.5625 \nQ 10.6875 0.296875 5.421875 2 \nL 5.421875 11.28125 \nQ 10.40625 8.6875 15.234375 7.390625 \nQ 20.0625 6.109375 24.8125 6.109375 \nQ 31.15625 6.109375 34.5625 8.28125 \nQ 37.984375 10.453125 37.984375 14.40625 \nQ 37.984375 18.0625 35.515625 20.015625 \nQ 33.0625 21.96875 24.703125 23.78125 \nL 21.578125 24.515625 \nQ 13.234375 26.265625 9.515625 29.90625 \nQ 5.8125 33.546875 5.8125 39.890625 \nQ 5.8125 47.609375 11.28125 51.796875 \nQ 16.75 56 26.8125 56 \nQ 31.78125 56 36.171875 55.265625 \nQ 40.578125 54.546875 44.28125 53.078125 \nz\n\" id=\"DejaVuSans-115\"/>\n      <path d=\"M 18.109375 8.203125 \nL 18.109375 -20.796875 \nL 9.078125 -20.796875 \nL 9.078125 54.6875 \nL 18.109375 54.6875 \nL 18.109375 46.390625 \nQ 20.953125 51.265625 25.265625 53.625 \nQ 29.59375 56 35.59375 56 \nQ 45.5625 56 51.78125 48.09375 \nQ 58.015625 40.1875 58.015625 27.296875 \nQ 58.015625 14.40625 51.78125 6.484375 \nQ 45.5625 -1.421875 35.59375 -1.421875 \nQ 29.59375 -1.421875 25.265625 0.953125 \nQ 20.953125 3.328125 18.109375 8.203125 \nz\nM 48.6875 27.296875 \nQ 48.6875 37.203125 44.609375 42.84375 \nQ 40.53125 48.484375 33.40625 48.484375 \nQ 26.265625 48.484375 22.1875 42.84375 \nQ 18.109375 37.203125 18.109375 27.296875 \nQ 18.109375 17.390625 22.1875 11.75 \nQ 26.265625 6.109375 33.40625 6.109375 \nQ 40.53125 6.109375 44.609375 11.75 \nQ 48.6875 17.390625 48.6875 27.296875 \nz\n\" id=\"DejaVuSans-112\"/>\n      <path d=\"M 9.421875 54.6875 \nL 18.40625 54.6875 \nL 18.40625 0 \nL 9.421875 0 \nz\nM 9.421875 75.984375 \nL 18.40625 75.984375 \nL 18.40625 64.59375 \nL 9.421875 64.59375 \nz\n\" id=\"DejaVuSans-105\"/>\n      <path d=\"M 18.3125 70.21875 \nL 18.3125 54.6875 \nL 36.8125 54.6875 \nL 36.8125 47.703125 \nL 18.3125 47.703125 \nL 18.3125 18.015625 \nQ 18.3125 11.328125 20.140625 9.421875 \nQ 21.96875 7.515625 27.59375 7.515625 \nL 36.8125 7.515625 \nL 36.8125 0 \nL 27.59375 0 \nQ 17.1875 0 13.234375 3.875 \nQ 9.28125 7.765625 9.28125 18.015625 \nL 9.28125 47.703125 \nL 2.6875 47.703125 \nL 2.6875 54.6875 \nL 9.28125 54.6875 \nL 9.28125 70.21875 \nz\n\" id=\"DejaVuSans-116\"/>\n      <path d=\"M 34.28125 27.484375 \nQ 23.390625 27.484375 19.1875 25 \nQ 14.984375 22.515625 14.984375 16.5 \nQ 14.984375 11.71875 18.140625 8.90625 \nQ 21.296875 6.109375 26.703125 6.109375 \nQ 34.1875 6.109375 38.703125 11.40625 \nQ 43.21875 16.703125 43.21875 25.484375 \nL 43.21875 27.484375 \nz\nM 52.203125 31.203125 \nL 52.203125 0 \nL 43.21875 0 \nL 43.21875 8.296875 \nQ 40.140625 3.328125 35.546875 0.953125 \nQ 30.953125 -1.421875 24.3125 -1.421875 \nQ 15.921875 -1.421875 10.953125 3.296875 \nQ 6 8.015625 6 15.921875 \nQ 6 25.140625 12.171875 29.828125 \nQ 18.359375 34.515625 30.609375 34.515625 \nL 43.21875 34.515625 \nL 43.21875 35.40625 \nQ 43.21875 41.609375 39.140625 45 \nQ 35.0625 48.390625 27.6875 48.390625 \nQ 23 48.390625 18.546875 47.265625 \nQ 14.109375 46.140625 10.015625 43.890625 \nL 10.015625 52.203125 \nQ 14.9375 54.109375 19.578125 55.046875 \nQ 24.21875 56 28.609375 56 \nQ 40.484375 56 46.34375 49.84375 \nQ 52.203125 43.703125 52.203125 31.203125 \nz\n\" id=\"DejaVuSans-97\"/>\n      <path d=\"M 9.421875 75.984375 \nL 18.40625 75.984375 \nL 18.40625 0 \nL 9.421875 0 \nz\n\" id=\"DejaVuSans-108\"/>\n     </defs>\n     <use xlink:href=\"#DejaVuSans-72\"/>\n     <use x=\"75.195312\" xlink:href=\"#DejaVuSans-111\"/>\n     <use x=\"136.376953\" xlink:href=\"#DejaVuSans-115\"/>\n     <use x=\"188.476562\" xlink:href=\"#DejaVuSans-112\"/>\n     <use x=\"251.953125\" xlink:href=\"#DejaVuSans-105\"/>\n     <use x=\"279.736328\" xlink:href=\"#DejaVuSans-116\"/>\n     <use x=\"318.945312\" xlink:href=\"#DejaVuSans-97\"/>\n     <use x=\"380.224609\" xlink:href=\"#DejaVuSans-108\"/>\n    </g>\n   </g>\n   <g id=\"text_4\">\n    <!-- 33.9% -->\n    <g transform=\"translate(64.420941 304.283458)scale(0.14 -0.14)\">\n     <defs>\n      <path d=\"M 10.984375 1.515625 \nL 10.984375 10.5 \nQ 14.703125 8.734375 18.5 7.8125 \nQ 22.3125 6.890625 25.984375 6.890625 \nQ 35.75 6.890625 40.890625 13.453125 \nQ 46.046875 20.015625 46.78125 33.40625 \nQ 43.953125 29.203125 39.59375 26.953125 \nQ 35.25 24.703125 29.984375 24.703125 \nQ 19.046875 24.703125 12.671875 31.3125 \nQ 6.296875 37.9375 6.296875 49.421875 \nQ 6.296875 60.640625 12.9375 67.421875 \nQ 19.578125 74.21875 30.609375 74.21875 \nQ 43.265625 74.21875 49.921875 64.515625 \nQ 56.59375 54.828125 56.59375 36.375 \nQ 56.59375 19.140625 48.40625 8.859375 \nQ 40.234375 -1.421875 26.421875 -1.421875 \nQ 22.703125 -1.421875 18.890625 -0.6875 \nQ 15.09375 0.046875 10.984375 1.515625 \nz\nM 30.609375 32.421875 \nQ 37.25 32.421875 41.125 36.953125 \nQ 45.015625 41.5 45.015625 49.421875 \nQ 45.015625 57.28125 41.125 61.84375 \nQ 37.25 66.40625 30.609375 66.40625 \nQ 23.96875 66.40625 20.09375 61.84375 \nQ 16.21875 57.28125 16.21875 49.421875 \nQ 16.21875 41.5 20.09375 36.953125 \nQ 23.96875 32.421875 30.609375 32.421875 \nz\n\" id=\"DejaVuSans-57\"/>\n     </defs>\n     <use xlink:href=\"#DejaVuSans-51\"/>\n     <use x=\"63.623047\" xlink:href=\"#DejaVuSans-51\"/>\n     <use x=\"127.246094\" xlink:href=\"#DejaVuSans-46\"/>\n     <use x=\"159.033203\" xlink:href=\"#DejaVuSans-57\"/>\n     <use x=\"222.65625\" xlink:href=\"#DejaVuSans-37\"/>\n    </g>\n   </g>\n   <g id=\"text_5\">\n    <!-- 0.9% -->\n    <g transform=\"translate(174.659463 557.87946)scale(0.14 -0.14)\">\n     <defs>\n      <path d=\"M 31.78125 66.40625 \nQ 24.171875 66.40625 20.328125 58.90625 \nQ 16.5 51.421875 16.5 36.375 \nQ 16.5 21.390625 20.328125 13.890625 \nQ 24.171875 6.390625 31.78125 6.390625 \nQ 39.453125 6.390625 43.28125 13.890625 \nQ 47.125 21.390625 47.125 36.375 \nQ 47.125 51.421875 43.28125 58.90625 \nQ 39.453125 66.40625 31.78125 66.40625 \nz\nM 31.78125 74.21875 \nQ 44.046875 74.21875 50.515625 64.515625 \nQ 56.984375 54.828125 56.984375 36.375 \nQ 56.984375 17.96875 50.515625 8.265625 \nQ 44.046875 -1.421875 31.78125 -1.421875 \nQ 19.53125 -1.421875 13.0625 8.265625 \nQ 6.59375 17.96875 6.59375 36.375 \nQ 6.59375 54.828125 13.0625 64.515625 \nQ 19.53125 74.21875 31.78125 74.21875 \nz\n\" id=\"DejaVuSans-48\"/>\n     </defs>\n     <use xlink:href=\"#DejaVuSans-48\"/>\n     <use x=\"63.623047\" xlink:href=\"#DejaVuSans-46\"/>\n     <use x=\"95.410156\" xlink:href=\"#DejaVuSans-57\"/>\n     <use x=\"159.033203\" xlink:href=\"#DejaVuSans-37\"/>\n    </g>\n   </g>\n   <g id=\"text_6\">\n    <!-- 4.9% -->\n    <g transform=\"translate(212.178106 584.034167)scale(0.14 -0.14)\">\n     <defs>\n      <path d=\"M 37.796875 64.3125 \nL 12.890625 25.390625 \nL 37.796875 25.390625 \nz\nM 35.203125 72.90625 \nL 47.609375 72.90625 \nL 47.609375 25.390625 \nL 58.015625 25.390625 \nL 58.015625 17.1875 \nL 47.609375 17.1875 \nL 47.609375 0 \nL 37.796875 0 \nL 37.796875 17.1875 \nL 4.890625 17.1875 \nL 4.890625 26.703125 \nz\n\" id=\"DejaVuSans-52\"/>\n     </defs>\n     <use xlink:href=\"#DejaVuSans-52\"/>\n     <use x=\"63.623047\" xlink:href=\"#DejaVuSans-46\"/>\n     <use x=\"95.410156\" xlink:href=\"#DejaVuSans-57\"/>\n     <use x=\"159.033203\" xlink:href=\"#DejaVuSans-37\"/>\n    </g>\n   </g>\n   <g id=\"text_7\">\n    <!-- 1.0% -->\n    <g transform=\"translate(254.862705 603.341601)scale(0.14 -0.14)\">\n     <use xlink:href=\"#DejaVuSans-49\"/>\n     <use x=\"63.623047\" xlink:href=\"#DejaVuSans-46\"/>\n     <use x=\"95.410156\" xlink:href=\"#DejaVuSans-48\"/>\n     <use x=\"159.033203\" xlink:href=\"#DejaVuSans-37\"/>\n    </g>\n   </g>\n   <g id=\"text_8\">\n    <!-- Large Office -->\n    <g transform=\"translate(472.588366 638.544447)scale(0.14 -0.14)\">\n     <defs>\n      <path d=\"M 9.8125 72.90625 \nL 19.671875 72.90625 \nL 19.671875 8.296875 \nL 55.171875 8.296875 \nL 55.171875 0 \nL 9.8125 0 \nz\n\" id=\"DejaVuSans-76\"/>\n      <path d=\"M 41.109375 46.296875 \nQ 39.59375 47.171875 37.8125 47.578125 \nQ 36.03125 48 33.890625 48 \nQ 26.265625 48 22.1875 43.046875 \nQ 18.109375 38.09375 18.109375 28.8125 \nL 18.109375 0 \nL 9.078125 0 \nL 9.078125 54.6875 \nL 18.109375 54.6875 \nL 18.109375 46.1875 \nQ 20.953125 51.171875 25.484375 53.578125 \nQ 30.03125 56 36.53125 56 \nQ 37.453125 56 38.578125 55.875 \nQ 39.703125 55.765625 41.0625 55.515625 \nz\n\" id=\"DejaVuSans-114\"/>\n      <path d=\"M 45.40625 27.984375 \nQ 45.40625 37.75 41.375 43.109375 \nQ 37.359375 48.484375 30.078125 48.484375 \nQ 22.859375 48.484375 18.828125 43.109375 \nQ 14.796875 37.75 14.796875 27.984375 \nQ 14.796875 18.265625 18.828125 12.890625 \nQ 22.859375 7.515625 30.078125 7.515625 \nQ 37.359375 7.515625 41.375 12.890625 \nQ 45.40625 18.265625 45.40625 27.984375 \nz\nM 54.390625 6.78125 \nQ 54.390625 -7.171875 48.1875 -13.984375 \nQ 42 -20.796875 29.203125 -20.796875 \nQ 24.46875 -20.796875 20.265625 -20.09375 \nQ 16.0625 -19.390625 12.109375 -17.921875 \nL 12.109375 -9.1875 \nQ 16.0625 -11.328125 19.921875 -12.34375 \nQ 23.78125 -13.375 27.78125 -13.375 \nQ 36.625 -13.375 41.015625 -8.765625 \nQ 45.40625 -4.15625 45.40625 5.171875 \nL 45.40625 9.625 \nQ 42.625 4.78125 38.28125 2.390625 \nQ 33.9375 0 27.875 0 \nQ 17.828125 0 11.671875 7.65625 \nQ 5.515625 15.328125 5.515625 27.984375 \nQ 5.515625 40.671875 11.671875 48.328125 \nQ 17.828125 56 27.875 56 \nQ 33.9375 56 38.28125 53.609375 \nQ 42.625 51.21875 45.40625 46.390625 \nL 45.40625 54.6875 \nL 54.390625 54.6875 \nz\n\" id=\"DejaVuSans-103\"/>\n      <path d=\"M 56.203125 29.59375 \nL 56.203125 25.203125 \nL 14.890625 25.203125 \nQ 15.484375 15.921875 20.484375 11.0625 \nQ 25.484375 6.203125 34.421875 6.203125 \nQ 39.59375 6.203125 44.453125 7.46875 \nQ 49.3125 8.734375 54.109375 11.28125 \nL 54.109375 2.78125 \nQ 49.265625 0.734375 44.1875 -0.34375 \nQ 39.109375 -1.421875 33.890625 -1.421875 \nQ 20.796875 -1.421875 13.15625 6.1875 \nQ 5.515625 13.8125 5.515625 26.8125 \nQ 5.515625 40.234375 12.765625 48.109375 \nQ 20.015625 56 32.328125 56 \nQ 43.359375 56 49.78125 48.890625 \nQ 56.203125 41.796875 56.203125 29.59375 \nz\nM 47.21875 32.234375 \nQ 47.125 39.59375 43.09375 43.984375 \nQ 39.0625 48.390625 32.421875 48.390625 \nQ 24.90625 48.390625 20.390625 44.140625 \nQ 15.875 39.890625 15.1875 32.171875 \nz\n\" id=\"DejaVuSans-101\"/>\n      <path id=\"DejaVuSans-32\"/>\n      <path d=\"M 39.40625 66.21875 \nQ 28.65625 66.21875 22.328125 58.203125 \nQ 16.015625 50.203125 16.015625 36.375 \nQ 16.015625 22.609375 22.328125 14.59375 \nQ 28.65625 6.59375 39.40625 6.59375 \nQ 50.140625 6.59375 56.421875 14.59375 \nQ 62.703125 22.609375 62.703125 36.375 \nQ 62.703125 50.203125 56.421875 58.203125 \nQ 50.140625 66.21875 39.40625 66.21875 \nz\nM 39.40625 74.21875 \nQ 54.734375 74.21875 63.90625 63.9375 \nQ 73.09375 53.65625 73.09375 36.375 \nQ 73.09375 19.140625 63.90625 8.859375 \nQ 54.734375 -1.421875 39.40625 -1.421875 \nQ 24.03125 -1.421875 14.8125 8.828125 \nQ 5.609375 19.09375 5.609375 36.375 \nQ 5.609375 53.65625 14.8125 63.9375 \nQ 24.03125 74.21875 39.40625 74.21875 \nz\n\" id=\"DejaVuSans-79\"/>\n      <path d=\"M 37.109375 75.984375 \nL 37.109375 68.5 \nL 28.515625 68.5 \nQ 23.6875 68.5 21.796875 66.546875 \nQ 19.921875 64.59375 19.921875 59.515625 \nL 19.921875 54.6875 \nL 34.71875 54.6875 \nL 34.71875 47.703125 \nL 19.921875 47.703125 \nL 19.921875 0 \nL 10.890625 0 \nL 10.890625 47.703125 \nL 2.296875 47.703125 \nL 2.296875 54.6875 \nL 10.890625 54.6875 \nL 10.890625 58.5 \nQ 10.890625 67.625 15.140625 71.796875 \nQ 19.390625 75.984375 28.609375 75.984375 \nz\n\" id=\"DejaVuSans-102\"/>\n      <path d=\"M 48.78125 52.59375 \nL 48.78125 44.1875 \nQ 44.96875 46.296875 41.140625 47.34375 \nQ 37.3125 48.390625 33.40625 48.390625 \nQ 24.65625 48.390625 19.8125 42.84375 \nQ 14.984375 37.3125 14.984375 27.296875 \nQ 14.984375 17.28125 19.8125 11.734375 \nQ 24.65625 6.203125 33.40625 6.203125 \nQ 37.3125 6.203125 41.140625 7.25 \nQ 44.96875 8.296875 48.78125 10.40625 \nL 48.78125 2.09375 \nQ 45.015625 0.34375 40.984375 -0.53125 \nQ 36.96875 -1.421875 32.421875 -1.421875 \nQ 20.0625 -1.421875 12.78125 6.34375 \nQ 5.515625 14.109375 5.515625 27.296875 \nQ 5.515625 40.671875 12.859375 48.328125 \nQ 20.21875 56 33.015625 56 \nQ 37.15625 56 41.109375 55.140625 \nQ 45.0625 54.296875 48.78125 52.59375 \nz\n\" id=\"DejaVuSans-99\"/>\n     </defs>\n     <use xlink:href=\"#DejaVuSans-76\"/>\n     <use x=\"55.712891\" xlink:href=\"#DejaVuSans-97\"/>\n     <use x=\"116.992188\" xlink:href=\"#DejaVuSans-114\"/>\n     <use x=\"156.355469\" xlink:href=\"#DejaVuSans-103\"/>\n     <use x=\"219.832031\" xlink:href=\"#DejaVuSans-101\"/>\n     <use x=\"281.355469\" xlink:href=\"#DejaVuSans-32\"/>\n     <use x=\"313.142578\" xlink:href=\"#DejaVuSans-79\"/>\n     <use x=\"391.853516\" xlink:href=\"#DejaVuSans-102\"/>\n     <use x=\"427.058594\" xlink:href=\"#DejaVuSans-102\"/>\n     <use x=\"462.263672\" xlink:href=\"#DejaVuSans-105\"/>\n     <use x=\"490.046875\" xlink:href=\"#DejaVuSans-99\"/>\n     <use x=\"545.027344\" xlink:href=\"#DejaVuSans-101\"/>\n    </g>\n   </g>\n   <g id=\"text_9\">\n    <!-- 22.5% -->\n    <g transform=\"translate(441.282029 617.512465)scale(0.14 -0.14)\">\n     <defs>\n      <path d=\"M 10.796875 72.90625 \nL 49.515625 72.90625 \nL 49.515625 64.59375 \nL 19.828125 64.59375 \nL 19.828125 46.734375 \nQ 21.96875 47.46875 24.109375 47.828125 \nQ 26.265625 48.1875 28.421875 48.1875 \nQ 40.625 48.1875 47.75 41.5 \nQ 54.890625 34.8125 54.890625 23.390625 \nQ 54.890625 11.625 47.5625 5.09375 \nQ 40.234375 -1.421875 26.90625 -1.421875 \nQ 22.3125 -1.421875 17.546875 -0.640625 \nQ 12.796875 0.140625 7.71875 1.703125 \nL 7.71875 11.625 \nQ 12.109375 9.234375 16.796875 8.0625 \nQ 21.484375 6.890625 26.703125 6.890625 \nQ 35.15625 6.890625 40.078125 11.328125 \nQ 45.015625 15.765625 45.015625 23.390625 \nQ 45.015625 31 40.078125 35.4375 \nQ 35.15625 39.890625 26.703125 39.890625 \nQ 22.75 39.890625 18.8125 39.015625 \nQ 14.890625 38.140625 10.796875 36.28125 \nz\n\" id=\"DejaVuSans-53\"/>\n     </defs>\n     <use xlink:href=\"#DejaVuSans-50\"/>\n     <use x=\"63.623047\" xlink:href=\"#DejaVuSans-50\"/>\n     <use x=\"127.246094\" xlink:href=\"#DejaVuSans-46\"/>\n     <use x=\"159.033203\" xlink:href=\"#DejaVuSans-53\"/>\n     <use x=\"222.65625\" xlink:href=\"#DejaVuSans-37\"/>\n    </g>\n   </g>\n   <g id=\"text_10\">\n    <!-- 0.2% -->\n    <g transform=\"translate(563.782287 474.684496)scale(0.14 -0.14)\">\n     <use xlink:href=\"#DejaVuSans-48\"/>\n     <use x=\"63.623047\" xlink:href=\"#DejaVuSans-46\"/>\n     <use x=\"95.410156\" xlink:href=\"#DejaVuSans-50\"/>\n     <use x=\"159.033203\" xlink:href=\"#DejaVuSans-37\"/>\n    </g>\n   </g>\n   <g id=\"text_11\">\n    <!-- 1.0% -->\n    <g transform=\"translate(567.816171 465.904688)scale(0.14 -0.14)\">\n     <use xlink:href=\"#DejaVuSans-49\"/>\n     <use x=\"63.623047\" xlink:href=\"#DejaVuSans-46\"/>\n     <use x=\"95.410156\" xlink:href=\"#DejaVuSans-48\"/>\n     <use x=\"159.033203\" xlink:href=\"#DejaVuSans-37\"/>\n    </g>\n   </g>\n   <g id=\"text_12\">\n    <!-- 0.9% -->\n    <g transform=\"translate(573.308795 452.243596)scale(0.14 -0.14)\">\n     <use xlink:href=\"#DejaVuSans-48\"/>\n     <use x=\"63.623047\" xlink:href=\"#DejaVuSans-46\"/>\n     <use x=\"95.410156\" xlink:href=\"#DejaVuSans-57\"/>\n     <use x=\"159.033203\" xlink:href=\"#DejaVuSans-37\"/>\n    </g>\n   </g>\n   <g id=\"text_13\">\n    <!-- 4.6% -->\n    <g transform=\"translate(584.739309 410.448628)scale(0.14 -0.14)\">\n     <defs>\n      <path d=\"M 33.015625 40.375 \nQ 26.375 40.375 22.484375 35.828125 \nQ 18.609375 31.296875 18.609375 23.390625 \nQ 18.609375 15.53125 22.484375 10.953125 \nQ 26.375 6.390625 33.015625 6.390625 \nQ 39.65625 6.390625 43.53125 10.953125 \nQ 47.40625 15.53125 47.40625 23.390625 \nQ 47.40625 31.296875 43.53125 35.828125 \nQ 39.65625 40.375 33.015625 40.375 \nz\nM 52.59375 71.296875 \nL 52.59375 62.3125 \nQ 48.875 64.0625 45.09375 64.984375 \nQ 41.3125 65.921875 37.59375 65.921875 \nQ 27.828125 65.921875 22.671875 59.328125 \nQ 17.53125 52.734375 16.796875 39.40625 \nQ 19.671875 43.65625 24.015625 45.921875 \nQ 28.375 48.1875 33.59375 48.1875 \nQ 44.578125 48.1875 50.953125 41.515625 \nQ 57.328125 34.859375 57.328125 23.390625 \nQ 57.328125 12.15625 50.6875 5.359375 \nQ 44.046875 -1.421875 33.015625 -1.421875 \nQ 20.359375 -1.421875 13.671875 8.265625 \nQ 6.984375 17.96875 6.984375 36.375 \nQ 6.984375 53.65625 15.1875 63.9375 \nQ 23.390625 74.21875 37.203125 74.21875 \nQ 40.921875 74.21875 44.703125 73.484375 \nQ 48.484375 72.75 52.59375 71.296875 \nz\n\" id=\"DejaVuSans-54\"/>\n     </defs>\n     <use xlink:href=\"#DejaVuSans-52\"/>\n     <use x=\"63.623047\" xlink:href=\"#DejaVuSans-46\"/>\n     <use x=\"95.410156\" xlink:href=\"#DejaVuSans-54\"/>\n     <use x=\"159.033203\" xlink:href=\"#DejaVuSans-37\"/>\n    </g>\n   </g>\n   <g id=\"text_14\">\n    <!-- 0.7% -->\n    <g transform=\"translate(588.825224 368.583495)scale(0.14 -0.14)\">\n     <defs>\n      <path d=\"M 8.203125 72.90625 \nL 55.078125 72.90625 \nL 55.078125 68.703125 \nL 28.609375 0 \nL 18.3125 0 \nL 43.21875 64.59375 \nL 8.203125 64.59375 \nz\n\" id=\"DejaVuSans-55\"/>\n     </defs>\n     <use xlink:href=\"#DejaVuSans-48\"/>\n     <use x=\"63.623047\" xlink:href=\"#DejaVuSans-46\"/>\n     <use x=\"95.410156\" xlink:href=\"#DejaVuSans-55\"/>\n     <use x=\"159.033203\" xlink:href=\"#DejaVuSans-37\"/>\n    </g>\n   </g>\n   <g id=\"text_15\">\n    <!-- 2.2% -->\n    <g transform=\"translate(588.060902 345.217657)scale(0.14 -0.14)\">\n     <use xlink:href=\"#DejaVuSans-50\"/>\n     <use x=\"63.623047\" xlink:href=\"#DejaVuSans-46\"/>\n     <use x=\"95.410156\" xlink:href=\"#DejaVuSans-50\"/>\n     <use x=\"159.033203\" xlink:href=\"#DejaVuSans-37\"/>\n    </g>\n   </g>\n   <g id=\"text_16\">\n    <!-- Large Hotel -->\n    <g transform=\"translate(624.265268 238.698514)scale(0.14 -0.14)\">\n     <use xlink:href=\"#DejaVuSans-76\"/>\n     <use x=\"55.712891\" xlink:href=\"#DejaVuSans-97\"/>\n     <use x=\"116.992188\" xlink:href=\"#DejaVuSans-114\"/>\n     <use x=\"156.355469\" xlink:href=\"#DejaVuSans-103\"/>\n     <use x=\"219.832031\" xlink:href=\"#DejaVuSans-101\"/>\n     <use x=\"281.355469\" xlink:href=\"#DejaVuSans-32\"/>\n     <use x=\"313.142578\" xlink:href=\"#DejaVuSans-72\"/>\n     <use x=\"388.337891\" xlink:href=\"#DejaVuSans-111\"/>\n     <use x=\"449.519531\" xlink:href=\"#DejaVuSans-116\"/>\n     <use x=\"488.728516\" xlink:href=\"#DejaVuSans-101\"/>\n     <use x=\"550.251953\" xlink:href=\"#DejaVuSans-108\"/>\n    </g>\n   </g>\n   <g id=\"text_17\">\n    <!-- 9.2% -->\n    <g transform=\"translate(585.745226 248.423911)scale(0.14 -0.14)\">\n     <use xlink:href=\"#DejaVuSans-57\"/>\n     <use x=\"63.623047\" xlink:href=\"#DejaVuSans-46\"/>\n     <use x=\"95.410156\" xlink:href=\"#DejaVuSans-50\"/>\n     <use x=\"159.033203\" xlink:href=\"#DejaVuSans-37\"/>\n    </g>\n   </g>\n   <g id=\"text_18\">\n    <!-- 2.6% -->\n    <g transform=\"translate(510.758609 182.78067)scale(0.14 -0.14)\">\n     <use xlink:href=\"#DejaVuSans-50\"/>\n     <use x=\"63.623047\" xlink:href=\"#DejaVuSans-46\"/>\n     <use x=\"95.410156\" xlink:href=\"#DejaVuSans-54\"/>\n     <use x=\"159.033203\" xlink:href=\"#DejaVuSans-37\"/>\n    </g>\n   </g>\n   <g id=\"text_19\">\n    <!-- Secondary School -->\n    <g transform=\"translate(453.952258 84.409414)scale(0.14 -0.14)\">\n     <defs>\n      <path d=\"M 53.515625 70.515625 \nL 53.515625 60.890625 \nQ 47.90625 63.578125 42.921875 64.890625 \nQ 37.9375 66.21875 33.296875 66.21875 \nQ 25.25 66.21875 20.875 63.09375 \nQ 16.5 59.96875 16.5 54.203125 \nQ 16.5 49.359375 19.40625 46.890625 \nQ 22.3125 44.4375 30.421875 42.921875 \nL 36.375 41.703125 \nQ 47.40625 39.59375 52.65625 34.296875 \nQ 57.90625 29 57.90625 20.125 \nQ 57.90625 9.515625 50.796875 4.046875 \nQ 43.703125 -1.421875 29.984375 -1.421875 \nQ 24.8125 -1.421875 18.96875 -0.25 \nQ 13.140625 0.921875 6.890625 3.21875 \nL 6.890625 13.375 \nQ 12.890625 10.015625 18.65625 8.296875 \nQ 24.421875 6.59375 29.984375 6.59375 \nQ 38.421875 6.59375 43.015625 9.90625 \nQ 47.609375 13.234375 47.609375 19.390625 \nQ 47.609375 24.75 44.3125 27.78125 \nQ 41.015625 30.8125 33.5 32.328125 \nL 27.484375 33.5 \nQ 16.453125 35.6875 11.515625 40.375 \nQ 6.59375 45.0625 6.59375 53.421875 \nQ 6.59375 63.09375 13.40625 68.65625 \nQ 20.21875 74.21875 32.171875 74.21875 \nQ 37.3125 74.21875 42.625 73.28125 \nQ 47.953125 72.359375 53.515625 70.515625 \nz\n\" id=\"DejaVuSans-83\"/>\n      <path d=\"M 54.890625 33.015625 \nL 54.890625 0 \nL 45.90625 0 \nL 45.90625 32.71875 \nQ 45.90625 40.484375 42.875 44.328125 \nQ 39.84375 48.1875 33.796875 48.1875 \nQ 26.515625 48.1875 22.3125 43.546875 \nQ 18.109375 38.921875 18.109375 30.90625 \nL 18.109375 0 \nL 9.078125 0 \nL 9.078125 54.6875 \nL 18.109375 54.6875 \nL 18.109375 46.1875 \nQ 21.34375 51.125 25.703125 53.5625 \nQ 30.078125 56 35.796875 56 \nQ 45.21875 56 50.046875 50.171875 \nQ 54.890625 44.34375 54.890625 33.015625 \nz\n\" id=\"DejaVuSans-110\"/>\n      <path d=\"M 45.40625 46.390625 \nL 45.40625 75.984375 \nL 54.390625 75.984375 \nL 54.390625 0 \nL 45.40625 0 \nL 45.40625 8.203125 \nQ 42.578125 3.328125 38.25 0.953125 \nQ 33.9375 -1.421875 27.875 -1.421875 \nQ 17.96875 -1.421875 11.734375 6.484375 \nQ 5.515625 14.40625 5.515625 27.296875 \nQ 5.515625 40.1875 11.734375 48.09375 \nQ 17.96875 56 27.875 56 \nQ 33.9375 56 38.25 53.625 \nQ 42.578125 51.265625 45.40625 46.390625 \nz\nM 14.796875 27.296875 \nQ 14.796875 17.390625 18.875 11.75 \nQ 22.953125 6.109375 30.078125 6.109375 \nQ 37.203125 6.109375 41.296875 11.75 \nQ 45.40625 17.390625 45.40625 27.296875 \nQ 45.40625 37.203125 41.296875 42.84375 \nQ 37.203125 48.484375 30.078125 48.484375 \nQ 22.953125 48.484375 18.875 42.84375 \nQ 14.796875 37.203125 14.796875 27.296875 \nz\n\" id=\"DejaVuSans-100\"/>\n      <path d=\"M 32.171875 -5.078125 \nQ 28.375 -14.84375 24.75 -17.8125 \nQ 21.140625 -20.796875 15.09375 -20.796875 \nL 7.90625 -20.796875 \nL 7.90625 -13.28125 \nL 13.1875 -13.28125 \nQ 16.890625 -13.28125 18.9375 -11.515625 \nQ 21 -9.765625 23.484375 -3.21875 \nL 25.09375 0.875 \nL 2.984375 54.6875 \nL 12.5 54.6875 \nL 29.59375 11.921875 \nL 46.6875 54.6875 \nL 56.203125 54.6875 \nz\n\" id=\"DejaVuSans-121\"/>\n      <path d=\"M 54.890625 33.015625 \nL 54.890625 0 \nL 45.90625 0 \nL 45.90625 32.71875 \nQ 45.90625 40.484375 42.875 44.328125 \nQ 39.84375 48.1875 33.796875 48.1875 \nQ 26.515625 48.1875 22.3125 43.546875 \nQ 18.109375 38.921875 18.109375 30.90625 \nL 18.109375 0 \nL 9.078125 0 \nL 9.078125 75.984375 \nL 18.109375 75.984375 \nL 18.109375 46.1875 \nQ 21.34375 51.125 25.703125 53.5625 \nQ 30.078125 56 35.796875 56 \nQ 45.21875 56 50.046875 50.171875 \nQ 54.890625 44.34375 54.890625 33.015625 \nz\n\" id=\"DejaVuSans-104\"/>\n     </defs>\n     <use xlink:href=\"#DejaVuSans-83\"/>\n     <use x=\"63.476562\" xlink:href=\"#DejaVuSans-101\"/>\n     <use x=\"125\" xlink:href=\"#DejaVuSans-99\"/>\n     <use x=\"179.980469\" xlink:href=\"#DejaVuSans-111\"/>\n     <use x=\"241.162109\" xlink:href=\"#DejaVuSans-110\"/>\n     <use x=\"304.541016\" xlink:href=\"#DejaVuSans-100\"/>\n     <use x=\"368.017578\" xlink:href=\"#DejaVuSans-97\"/>\n     <use x=\"429.296875\" xlink:href=\"#DejaVuSans-114\"/>\n     <use x=\"470.410156\" xlink:href=\"#DejaVuSans-121\"/>\n     <use x=\"529.589844\" xlink:href=\"#DejaVuSans-32\"/>\n     <use x=\"561.376953\" xlink:href=\"#DejaVuSans-83\"/>\n     <use x=\"624.853516\" xlink:href=\"#DejaVuSans-99\"/>\n     <use x=\"679.833984\" xlink:href=\"#DejaVuSans-104\"/>\n     <use x=\"743.212891\" xlink:href=\"#DejaVuSans-111\"/>\n     <use x=\"804.394531\" xlink:href=\"#DejaVuSans-111\"/>\n     <use x=\"865.576172\" xlink:href=\"#DejaVuSans-108\"/>\n    </g>\n   </g>\n   <g id=\"text_20\">\n    <!-- 10.8% -->\n    <g transform=\"translate(424.079467 106.003204)scale(0.14 -0.14)\">\n     <defs>\n      <path d=\"M 31.78125 34.625 \nQ 24.75 34.625 20.71875 30.859375 \nQ 16.703125 27.09375 16.703125 20.515625 \nQ 16.703125 13.921875 20.71875 10.15625 \nQ 24.75 6.390625 31.78125 6.390625 \nQ 38.8125 6.390625 42.859375 10.171875 \nQ 46.921875 13.96875 46.921875 20.515625 \nQ 46.921875 27.09375 42.890625 30.859375 \nQ 38.875 34.625 31.78125 34.625 \nz\nM 21.921875 38.8125 \nQ 15.578125 40.375 12.03125 44.71875 \nQ 8.5 49.078125 8.5 55.328125 \nQ 8.5 64.0625 14.71875 69.140625 \nQ 20.953125 74.21875 31.78125 74.21875 \nQ 42.671875 74.21875 48.875 69.140625 \nQ 55.078125 64.0625 55.078125 55.328125 \nQ 55.078125 49.078125 51.53125 44.71875 \nQ 48 40.375 41.703125 38.8125 \nQ 48.828125 37.15625 52.796875 32.3125 \nQ 56.78125 27.484375 56.78125 20.515625 \nQ 56.78125 9.90625 50.3125 4.234375 \nQ 43.84375 -1.421875 31.78125 -1.421875 \nQ 19.734375 -1.421875 13.25 4.234375 \nQ 6.78125 9.90625 6.78125 20.515625 \nQ 6.78125 27.484375 10.78125 32.3125 \nQ 14.796875 37.15625 21.921875 38.8125 \nz\nM 18.3125 54.390625 \nQ 18.3125 48.734375 21.84375 45.5625 \nQ 25.390625 42.390625 31.78125 42.390625 \nQ 38.140625 42.390625 41.71875 45.5625 \nQ 45.3125 48.734375 45.3125 54.390625 \nQ 45.3125 60.0625 41.71875 63.234375 \nQ 38.140625 66.40625 31.78125 66.40625 \nQ 25.390625 66.40625 21.84375 63.234375 \nQ 18.3125 60.0625 18.3125 54.390625 \nz\n\" id=\"DejaVuSans-56\"/>\n     </defs>\n     <use xlink:href=\"#DejaVuSans-49\"/>\n     <use x=\"63.623047\" xlink:href=\"#DejaVuSans-48\"/>\n     <use x=\"127.246094\" xlink:href=\"#DejaVuSans-46\"/>\n     <use x=\"159.033203\" xlink:href=\"#DejaVuSans-56\"/>\n     <use x=\"222.65625\" xlink:href=\"#DejaVuSans-37\"/>\n    </g>\n   </g>\n   <g id=\"text_21\">\n    <!-- Contribution in energy consumption -->\n    <g transform=\"translate(152.552523 23.916562)scale(0.22 -0.22)\">\n     <defs>\n      <path d=\"M 64.40625 67.28125 \nL 64.40625 56.890625 \nQ 59.421875 61.53125 53.78125 63.8125 \nQ 48.140625 66.109375 41.796875 66.109375 \nQ 29.296875 66.109375 22.65625 58.46875 \nQ 16.015625 50.828125 16.015625 36.375 \nQ 16.015625 21.96875 22.65625 14.328125 \nQ 29.296875 6.6875 41.796875 6.6875 \nQ 48.140625 6.6875 53.78125 8.984375 \nQ 59.421875 11.28125 64.40625 15.921875 \nL 64.40625 5.609375 \nQ 59.234375 2.09375 53.4375 0.328125 \nQ 47.65625 -1.421875 41.21875 -1.421875 \nQ 24.65625 -1.421875 15.125 8.703125 \nQ 5.609375 18.84375 5.609375 36.375 \nQ 5.609375 53.953125 15.125 64.078125 \nQ 24.65625 74.21875 41.21875 74.21875 \nQ 47.75 74.21875 53.53125 72.484375 \nQ 59.328125 70.75 64.40625 67.28125 \nz\n\" id=\"DejaVuSans-67\"/>\n      <path d=\"M 48.6875 27.296875 \nQ 48.6875 37.203125 44.609375 42.84375 \nQ 40.53125 48.484375 33.40625 48.484375 \nQ 26.265625 48.484375 22.1875 42.84375 \nQ 18.109375 37.203125 18.109375 27.296875 \nQ 18.109375 17.390625 22.1875 11.75 \nQ 26.265625 6.109375 33.40625 6.109375 \nQ 40.53125 6.109375 44.609375 11.75 \nQ 48.6875 17.390625 48.6875 27.296875 \nz\nM 18.109375 46.390625 \nQ 20.953125 51.265625 25.265625 53.625 \nQ 29.59375 56 35.59375 56 \nQ 45.5625 56 51.78125 48.09375 \nQ 58.015625 40.1875 58.015625 27.296875 \nQ 58.015625 14.40625 51.78125 6.484375 \nQ 45.5625 -1.421875 35.59375 -1.421875 \nQ 29.59375 -1.421875 25.265625 0.953125 \nQ 20.953125 3.328125 18.109375 8.203125 \nL 18.109375 0 \nL 9.078125 0 \nL 9.078125 75.984375 \nL 18.109375 75.984375 \nz\n\" id=\"DejaVuSans-98\"/>\n      <path d=\"M 8.5 21.578125 \nL 8.5 54.6875 \nL 17.484375 54.6875 \nL 17.484375 21.921875 \nQ 17.484375 14.15625 20.5 10.265625 \nQ 23.53125 6.390625 29.59375 6.390625 \nQ 36.859375 6.390625 41.078125 11.03125 \nQ 45.3125 15.671875 45.3125 23.6875 \nL 45.3125 54.6875 \nL 54.296875 54.6875 \nL 54.296875 0 \nL 45.3125 0 \nL 45.3125 8.40625 \nQ 42.046875 3.421875 37.71875 1 \nQ 33.40625 -1.421875 27.6875 -1.421875 \nQ 18.265625 -1.421875 13.375 4.4375 \nQ 8.5 10.296875 8.5 21.578125 \nz\nM 31.109375 56 \nz\n\" id=\"DejaVuSans-117\"/>\n      <path d=\"M 52 44.1875 \nQ 55.375 50.25 60.0625 53.125 \nQ 64.75 56 71.09375 56 \nQ 79.640625 56 84.28125 50.015625 \nQ 88.921875 44.046875 88.921875 33.015625 \nL 88.921875 0 \nL 79.890625 0 \nL 79.890625 32.71875 \nQ 79.890625 40.578125 77.09375 44.375 \nQ 74.3125 48.1875 68.609375 48.1875 \nQ 61.625 48.1875 57.5625 43.546875 \nQ 53.515625 38.921875 53.515625 30.90625 \nL 53.515625 0 \nL 44.484375 0 \nL 44.484375 32.71875 \nQ 44.484375 40.625 41.703125 44.40625 \nQ 38.921875 48.1875 33.109375 48.1875 \nQ 26.21875 48.1875 22.15625 43.53125 \nQ 18.109375 38.875 18.109375 30.90625 \nL 18.109375 0 \nL 9.078125 0 \nL 9.078125 54.6875 \nL 18.109375 54.6875 \nL 18.109375 46.1875 \nQ 21.1875 51.21875 25.484375 53.609375 \nQ 29.78125 56 35.6875 56 \nQ 41.65625 56 45.828125 52.96875 \nQ 50 49.953125 52 44.1875 \nz\n\" id=\"DejaVuSans-109\"/>\n     </defs>\n     <use xlink:href=\"#DejaVuSans-67\"/>\n     <use x=\"69.824219\" xlink:href=\"#DejaVuSans-111\"/>\n     <use x=\"131.005859\" xlink:href=\"#DejaVuSans-110\"/>\n     <use x=\"194.384766\" xlink:href=\"#DejaVuSans-116\"/>\n     <use x=\"233.59375\" xlink:href=\"#DejaVuSans-114\"/>\n     <use x=\"274.707031\" xlink:href=\"#DejaVuSans-105\"/>\n     <use x=\"302.490234\" xlink:href=\"#DejaVuSans-98\"/>\n     <use x=\"365.966797\" xlink:href=\"#DejaVuSans-117\"/>\n     <use x=\"429.345703\" xlink:href=\"#DejaVuSans-116\"/>\n     <use x=\"468.554688\" xlink:href=\"#DejaVuSans-105\"/>\n     <use x=\"496.337891\" xlink:href=\"#DejaVuSans-111\"/>\n     <use x=\"557.519531\" xlink:href=\"#DejaVuSans-110\"/>\n     <use x=\"620.898438\" xlink:href=\"#DejaVuSans-32\"/>\n     <use x=\"652.685547\" xlink:href=\"#DejaVuSans-105\"/>\n     <use x=\"680.46875\" xlink:href=\"#DejaVuSans-110\"/>\n     <use x=\"743.847656\" xlink:href=\"#DejaVuSans-32\"/>\n     <use x=\"775.634766\" xlink:href=\"#DejaVuSans-101\"/>\n     <use x=\"837.158203\" xlink:href=\"#DejaVuSans-110\"/>\n     <use x=\"900.537109\" xlink:href=\"#DejaVuSans-101\"/>\n     <use x=\"962.060547\" xlink:href=\"#DejaVuSans-114\"/>\n     <use x=\"1001.423828\" xlink:href=\"#DejaVuSans-103\"/>\n     <use x=\"1064.900391\" xlink:href=\"#DejaVuSans-121\"/>\n     <use x=\"1124.080078\" xlink:href=\"#DejaVuSans-32\"/>\n     <use x=\"1155.867188\" xlink:href=\"#DejaVuSans-99\"/>\n     <use x=\"1210.847656\" xlink:href=\"#DejaVuSans-111\"/>\n     <use x=\"1272.029297\" xlink:href=\"#DejaVuSans-110\"/>\n     <use x=\"1335.408203\" xlink:href=\"#DejaVuSans-115\"/>\n     <use x=\"1387.507812\" xlink:href=\"#DejaVuSans-117\"/>\n     <use x=\"1450.886719\" xlink:href=\"#DejaVuSans-109\"/>\n     <use x=\"1548.298828\" xlink:href=\"#DejaVuSans-112\"/>\n     <use x=\"1611.775391\" xlink:href=\"#DejaVuSans-116\"/>\n     <use x=\"1650.984375\" xlink:href=\"#DejaVuSans-105\"/>\n     <use x=\"1678.767578\" xlink:href=\"#DejaVuSans-111\"/>\n     <use x=\"1739.949219\" xlink:href=\"#DejaVuSans-110\"/>\n    </g>\n   </g>\n  </g>\n </g>\n</svg>\n",
      "image/png": "[encoded data removed]"
     },
     "metadata": {}
    }
   ],
   "source": [
    "import matplotlib.pyplot as plt\n",
    "# Pie chart, where the slices will be ordered and plotted counter-clockwise:\n",
    "sizes = percentdict.values()\n",
    "labels = '', '', 'Hospital', '','','','Large Office','','','','','','','Large Hotel','','Secondary School'\n",
    "explode = (0, 0, 0.1, 0, 0, 0, 0.1,0,0,0,0,0,0,0.1,0,0.1)\n",
    "\n",
    "fig1, ax1 = plt.subplots(figsize = (10,10))\n",
    "ax1.pie(sizes,autopct='%1.1f%%', startangle=90, explode = explode, labels = labels, textprops={'fontsize': 14}, pctdistance=1.1, labeldistance=1.2)\n",
    "ax1.axis('equal')  # Equal aspect ratio ensures that pie is drawn as a circle.\n",
    "plt.tight_layout()\n",
    "plt.title(\"Contribution in energy consumption\", fontsize = 22)\n",
    "plt.show()"
   ]
  },
  {
   "cell_type": "code",
   "execution_count": 87,
   "metadata": {},
   "outputs": [
    {
     "output_type": "execute_result",
     "data": {
      "text/plain": [
       "['Raw DB/commercial/Energy/RefBldgFullServiceRestaurantNew2004_7.1_5.0_3C_USA_CA_SAN_FRANCISCO.csv',\n",
       " 'Raw DB/commercial/Energy/RefBldgPrimarySchoolNew2004_7.1_5.0_3C_USA_CA_SAN_FRANCISCO.csv',\n",
       " 'Raw DB/commercial/Energy/RefBldgHospitalNew2004_7.1_5.0_3C_USA_CA_SAN_FRANCISCO.csv',\n",
       " 'Raw DB/commercial/Energy/RefBldgWarehouseNew2004_7.1_5.0_3C_USA_CA_SAN_FRANCISCO.csv',\n",
       " 'Raw DB/commercial/Energy/RefBldgOutPatientNew2004_7.1_5.0_3C_USA_CA_SAN_FRANCISCO.csv',\n",
       " 'Raw DB/commercial/Energy/RefBldgStand-aloneRetailNew2004_7.1_5.0_3C_USA_CA_SAN_FRANCISCO.csv',\n",
       " 'Raw DB/commercial/Energy/RefBldgLargeOfficeNew2004_7.1_5.0_3C_USA_CA_SAN_FRANCISCO.csv',\n",
       " 'Raw DB/commercial/Energy/RefBldgSmallOfficeNew2004_7.1_5.0_3C_USA_CA_SAN_FRANCISCO.csv',\n",
       " 'Raw DB/commercial/Energy/RefBldgStripMallNew2004_7.1_5.0_3C_USA_CA_SAN_FRANCISCO.csv',\n",
       " 'Raw DB/commercial/Energy/RefBldgMidriseApartmentNew2004_7.1_5.0_3C_USA_CA_SAN_FRANCISCO.csv',\n",
       " 'Raw DB/commercial/Energy/RefBldgSuperMarketNew2004_7.1_5.0_3C_USA_CA_SAN_FRANCISCO.csv',\n",
       " 'Raw DB/commercial/Energy/RefBldgQuickServiceRestaurantNew2004_7.1_5.0_3C_USA_CA_SAN_FRANCISCO.csv',\n",
       " 'Raw DB/commercial/Energy/RefBldgSmallHotelNew2004_7.1_5.0_3C_USA_CA_SAN_FRANCISCO.csv',\n",
       " 'Raw DB/commercial/Energy/RefBldgLargeHotelNew2004_7.1_5.0_3C_USA_CA_SAN_FRANCISCO.csv',\n",
       " 'Raw DB/commercial/Energy/RefBldgMediumOfficeNew2004_7.1_5.0_3C_USA_CA_SAN_FRANCISCO.csv',\n",
       " 'Raw DB/commercial/Energy/RefBldgSecondarySchoolNew2004_7.1_5.0_3C_USA_CA_SAN_FRANCISCO.csv']"
      ]
     },
     "metadata": {},
     "execution_count": 87
    }
   ],
   "source": [
    "file_list"
   ]
  },
  {
   "cell_type": "code",
   "execution_count": null,
   "metadata": {},
   "outputs": [],
   "source": []
  }
 ]
}