{
 "metadata": {
  "language_info": {
   "codemirror_mode": {
    "name": "ipython",
    "version": 3
   },
   "file_extension": ".py",
   "mimetype": "text/x-python",
   "name": "python",
   "nbconvert_exporter": "python",
   "pygments_lexer": "ipython3",
   "version": "3.6.9-final"
  },
  "orig_nbformat": 2,
  "kernelspec": {
   "name": "python36964bitf6ba81712aff471daf76ad995f0e2e87",
   "display_name": "Python 3.6.9 64-bit"
  }
 },
 "nbformat": 4,
 "nbformat_minor": 2,
 "cells": [
  {
   "cell_type": "code",
   "execution_count": null,
   "metadata": {},
   "outputs": [],
   "source": [
    "'''\n",
    "This is the notebook for cleaning weather data in commercial buildings\n",
    "'''"
   ]
  },
  {
   "cell_type": "code",
   "execution_count": null,
   "metadata": {},
   "outputs": [],
   "source": [
    "import pandas as pd \n",
    "import numpy as np \n",
    "import os \n",
    "import csv"
   ]
  },
  {
   "cell_type": "code",
   "execution_count": null,
   "metadata": {},
   "outputs": [],
   "source": [
    "final_path = \"Final DB/commercial/\"\n",
    "raw_path = \"Raw DB/commercial/Energy\""
   ]
  },
  {
   "cell_type": "code",
   "execution_count": null,
   "metadata": {},
   "outputs": [],
   "source": [
    "def clean_file_weather(file):\n",
    "    \"\"\"\n",
    "    Delete unneccessary weather features\n",
    "    \"\"\"\n",
    "    if not os.path.isfile(file):\n",
    "        print(\"File does not exit\")\n",
    "        return None \n",
    "    else:\n",
    "        columns = [\"Max_temp\",\"Min_temp\",\"Dewpoint\",\"Humidity\",\"Max_windspeed\",\"Min_windspeed\",\"Max_pressure\",\"Min_pressure\",\"Precipitation\"]\n",
    "        df = pd.read_csv(file)\n",
    "        # consider time, temp max, temp min, dew avg, avg humid, wind max, wind min, pressure max, pressure min, precipitation\n",
    "        df = df.drop([\"Time\",\"Avgtemp\",\"Maxdew\",\"Mindew\",\"Maxhumid\",\"Minhumid\",\"Avgwind\",\"Avgpressure\"],axis=1)\n",
    "        # check leap year, and insert 29.02 row\n",
    "        if df.shape[0] == 365:\n",
    "            zeros = np.zeros((df.shape[1],))\n",
    "            df = df.values\n",
    "            df = np.insert(df,(31+28)*9,zeros).reshape(366,9)\n",
    "            # convert back to DataFrame\n",
    "            df = pd.DataFrame(df,columns=columns)\n",
    "        else:\n",
    "            df.columns = columns\n",
    "        return df"
   ]
  },
  {
   "cell_type": "code",
   "execution_count": null,
   "metadata": {},
   "outputs": [],
   "source": [
    "def merge_files_weather(file_list,file_name):\n",
    "     \"\"\"\n",
    "     Merge four-year weather into one by averaging\n",
    "     \"\"\"\n",
    "    columns = [\"Max_temp\",\"Min_temp\",\"Dewpoint\",\"Humidity\",\"Max_windspeed\",\"Min_windspeed\",\"Max_pressure\",\"Min_pressure\",\"Precipitation\"]\n",
    "    # create temp list to hold all values of dfs\n",
    "    df = np.zeros((366,9))\n",
    "    for file in file_list:\n",
    "         _temp = clean_file(file).values\n",
    "         #sum up\n",
    "         df += _temp\n",
    "    # take average for 4 years\n",
    "    df /= 4.0\n",
    "    # take care 29.02\n",
    "    df[31+28] *= 4.0\n",
    "    # convert to df\n",
    "    df = pd.DataFrame(df,columns=columns)\n",
    "    # add time\n",
    "    \n",
    "    dates = pd.date_range(\"20040101\",periods = 366)\n",
    "    df[\"Time\"] = dates\n",
    "    # rearrange columns order\n",
    "    \n",
    "    columns = df.columns.to_list()\n",
    "    columns = columns[-1:] + columns[:-1]\n",
    "    df = df[columns]\n",
    "    # write file\n",
    "    df.to_csv(r\"\".join(file_name), index = True, header = True)\n",
    "    # return \n",
    "    return df"
   ]
  },
  {
   "cell_type": "code",
   "execution_count": null,
   "metadata": {},
   "outputs": [],
   "source": [
    "file_list = [\"2016.csv\",\"2017.csv\",\"2018.csv\",\"2019.csv\"]\n",
    "merge_files(file_list,final_path + \"merged_weather.csv\").head(60)"
   ]
  },
  {
   "cell_type": "code",
   "execution_count": null,
   "metadata": {},
   "outputs": [],
   "source": []
  },
  {
   "cell_type": "code",
   "execution_count": null,
   "metadata": {},
   "outputs": [],
   "source": []
  },
  {
   "cell_type": "code",
   "execution_count": null,
   "metadata": {},
   "outputs": [],
   "source": []
  }
 ]
}